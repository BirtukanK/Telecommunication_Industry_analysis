{
 "cells": [
  {
   "cell_type": "code",
   "execution_count": 5,
   "id": "3e094084",
   "metadata": {},
   "outputs": [],
   "source": [
    "import pandas as pd\n",
    "import numpy as np\n",
    "from IPython.display import Image"
   ]
  },
  {
   "cell_type": "code",
   "execution_count": 12,
   "id": "c5238425",
   "metadata": {},
   "outputs": [
    {
     "data": {
      "text/html": [
       "<div>\n",
       "<style scoped>\n",
       "    .dataframe tbody tr th:only-of-type {\n",
       "        vertical-align: middle;\n",
       "    }\n",
       "\n",
       "    .dataframe tbody tr th {\n",
       "        vertical-align: top;\n",
       "    }\n",
       "\n",
       "    .dataframe thead th {\n",
       "        text-align: right;\n",
       "    }\n",
       "</style>\n",
       "<table border=\"1\" class=\"dataframe\">\n",
       "  <thead>\n",
       "    <tr style=\"text-align: right;\">\n",
       "      <th></th>\n",
       "      <th>Bearer Id</th>\n",
       "      <th>Start</th>\n",
       "      <th>Start ms</th>\n",
       "      <th>End</th>\n",
       "      <th>End ms</th>\n",
       "      <th>Dur. (ms)</th>\n",
       "      <th>IMSI</th>\n",
       "      <th>MSISDN/Number</th>\n",
       "      <th>IMEI</th>\n",
       "      <th>Last Location Name</th>\n",
       "      <th>...</th>\n",
       "      <th>Youtube DL (Bytes)</th>\n",
       "      <th>Youtube UL (Bytes)</th>\n",
       "      <th>Netflix DL (Bytes)</th>\n",
       "      <th>Netflix UL (Bytes)</th>\n",
       "      <th>Gaming DL (Bytes)</th>\n",
       "      <th>Gaming UL (Bytes)</th>\n",
       "      <th>Other DL (Bytes)</th>\n",
       "      <th>Other UL (Bytes)</th>\n",
       "      <th>Total UL (Bytes)</th>\n",
       "      <th>Total DL (Bytes)</th>\n",
       "    </tr>\n",
       "  </thead>\n",
       "  <tbody>\n",
       "    <tr>\n",
       "      <th>0</th>\n",
       "      <td>1.311448e+19</td>\n",
       "      <td>4/4/2019 12:01</td>\n",
       "      <td>770.0</td>\n",
       "      <td>4/25/2019 14:35</td>\n",
       "      <td>662.0</td>\n",
       "      <td>1823652.0</td>\n",
       "      <td>2.082014e+14</td>\n",
       "      <td>3.366496e+10</td>\n",
       "      <td>3.552121e+13</td>\n",
       "      <td>9.16456699548519E+015</td>\n",
       "      <td>...</td>\n",
       "      <td>15854611.0</td>\n",
       "      <td>2501332.0</td>\n",
       "      <td>8198936.0</td>\n",
       "      <td>9656251.0</td>\n",
       "      <td>278082303.0</td>\n",
       "      <td>14344150.0</td>\n",
       "      <td>171744450.0</td>\n",
       "      <td>8814393.0</td>\n",
       "      <td>36749741.0</td>\n",
       "      <td>308879636.0</td>\n",
       "    </tr>\n",
       "    <tr>\n",
       "      <th>1</th>\n",
       "      <td>1.311448e+19</td>\n",
       "      <td>4/9/2019 13:04</td>\n",
       "      <td>235.0</td>\n",
       "      <td>4/25/2019 8:15</td>\n",
       "      <td>606.0</td>\n",
       "      <td>1365104.0</td>\n",
       "      <td>2.082019e+14</td>\n",
       "      <td>3.368185e+10</td>\n",
       "      <td>3.579401e+13</td>\n",
       "      <td>L77566A</td>\n",
       "      <td>...</td>\n",
       "      <td>20247395.0</td>\n",
       "      <td>19111729.0</td>\n",
       "      <td>18338413.0</td>\n",
       "      <td>17227132.0</td>\n",
       "      <td>608750074.0</td>\n",
       "      <td>1170709.0</td>\n",
       "      <td>526904238.0</td>\n",
       "      <td>15055145.0</td>\n",
       "      <td>53800391.0</td>\n",
       "      <td>653384965.0</td>\n",
       "    </tr>\n",
       "    <tr>\n",
       "      <th>2</th>\n",
       "      <td>1.311448e+19</td>\n",
       "      <td>4/9/2019 17:42</td>\n",
       "      <td>1.0</td>\n",
       "      <td>4/25/2019 11:58</td>\n",
       "      <td>652.0</td>\n",
       "      <td>1361762.0</td>\n",
       "      <td>2.082003e+14</td>\n",
       "      <td>3.376063e+10</td>\n",
       "      <td>3.528151e+13</td>\n",
       "      <td>D42335A</td>\n",
       "      <td>...</td>\n",
       "      <td>19725661.0</td>\n",
       "      <td>14699576.0</td>\n",
       "      <td>17587794.0</td>\n",
       "      <td>6163408.0</td>\n",
       "      <td>229584621.0</td>\n",
       "      <td>395630.0</td>\n",
       "      <td>410692588.0</td>\n",
       "      <td>4215763.0</td>\n",
       "      <td>27883638.0</td>\n",
       "      <td>279807335.0</td>\n",
       "    </tr>\n",
       "    <tr>\n",
       "      <th>3</th>\n",
       "      <td>1.311448e+19</td>\n",
       "      <td>4/10/2019 0:31</td>\n",
       "      <td>486.0</td>\n",
       "      <td>4/25/2019 7:36</td>\n",
       "      <td>171.0</td>\n",
       "      <td>1321509.0</td>\n",
       "      <td>2.082014e+14</td>\n",
       "      <td>3.375034e+10</td>\n",
       "      <td>3.535661e+13</td>\n",
       "      <td>T21824A</td>\n",
       "      <td>...</td>\n",
       "      <td>21388122.0</td>\n",
       "      <td>15146643.0</td>\n",
       "      <td>13994646.0</td>\n",
       "      <td>1097942.0</td>\n",
       "      <td>799538153.0</td>\n",
       "      <td>10849722.0</td>\n",
       "      <td>749039933.0</td>\n",
       "      <td>12797283.0</td>\n",
       "      <td>43324218.0</td>\n",
       "      <td>846028530.0</td>\n",
       "    </tr>\n",
       "    <tr>\n",
       "      <th>4</th>\n",
       "      <td>1.311448e+19</td>\n",
       "      <td>4/12/2019 20:10</td>\n",
       "      <td>565.0</td>\n",
       "      <td>4/25/2019 10:40</td>\n",
       "      <td>954.0</td>\n",
       "      <td>1089009.0</td>\n",
       "      <td>2.082014e+14</td>\n",
       "      <td>3.369980e+10</td>\n",
       "      <td>3.540701e+13</td>\n",
       "      <td>D88865A</td>\n",
       "      <td>...</td>\n",
       "      <td>15259380.0</td>\n",
       "      <td>18962873.0</td>\n",
       "      <td>17124581.0</td>\n",
       "      <td>415218.0</td>\n",
       "      <td>527707248.0</td>\n",
       "      <td>3529801.0</td>\n",
       "      <td>550709500.0</td>\n",
       "      <td>13910322.0</td>\n",
       "      <td>38542814.0</td>\n",
       "      <td>569138589.0</td>\n",
       "    </tr>\n",
       "  </tbody>\n",
       "</table>\n",
       "<p>5 rows × 55 columns</p>\n",
       "</div>"
      ],
      "text/plain": [
       "      Bearer Id            Start  Start ms              End  End ms  \\\n",
       "0  1.311448e+19   4/4/2019 12:01     770.0  4/25/2019 14:35   662.0   \n",
       "1  1.311448e+19   4/9/2019 13:04     235.0   4/25/2019 8:15   606.0   \n",
       "2  1.311448e+19   4/9/2019 17:42       1.0  4/25/2019 11:58   652.0   \n",
       "3  1.311448e+19   4/10/2019 0:31     486.0   4/25/2019 7:36   171.0   \n",
       "4  1.311448e+19  4/12/2019 20:10     565.0  4/25/2019 10:40   954.0   \n",
       "\n",
       "   Dur. (ms)          IMSI  MSISDN/Number          IMEI  \\\n",
       "0  1823652.0  2.082014e+14   3.366496e+10  3.552121e+13   \n",
       "1  1365104.0  2.082019e+14   3.368185e+10  3.579401e+13   \n",
       "2  1361762.0  2.082003e+14   3.376063e+10  3.528151e+13   \n",
       "3  1321509.0  2.082014e+14   3.375034e+10  3.535661e+13   \n",
       "4  1089009.0  2.082014e+14   3.369980e+10  3.540701e+13   \n",
       "\n",
       "      Last Location Name  ...  Youtube DL (Bytes)  Youtube UL (Bytes)  \\\n",
       "0  9.16456699548519E+015  ...          15854611.0           2501332.0   \n",
       "1                L77566A  ...          20247395.0          19111729.0   \n",
       "2                D42335A  ...          19725661.0          14699576.0   \n",
       "3                T21824A  ...          21388122.0          15146643.0   \n",
       "4                D88865A  ...          15259380.0          18962873.0   \n",
       "\n",
       "   Netflix DL (Bytes)  Netflix UL (Bytes)  Gaming DL (Bytes)  \\\n",
       "0           8198936.0           9656251.0        278082303.0   \n",
       "1          18338413.0          17227132.0        608750074.0   \n",
       "2          17587794.0           6163408.0        229584621.0   \n",
       "3          13994646.0           1097942.0        799538153.0   \n",
       "4          17124581.0            415218.0        527707248.0   \n",
       "\n",
       "   Gaming UL (Bytes)  Other DL (Bytes)  Other UL (Bytes)  Total UL (Bytes)  \\\n",
       "0         14344150.0       171744450.0         8814393.0        36749741.0   \n",
       "1          1170709.0       526904238.0        15055145.0        53800391.0   \n",
       "2           395630.0       410692588.0         4215763.0        27883638.0   \n",
       "3         10849722.0       749039933.0        12797283.0        43324218.0   \n",
       "4          3529801.0       550709500.0        13910322.0        38542814.0   \n",
       "\n",
       "   Total DL (Bytes)  \n",
       "0       308879636.0  \n",
       "1       653384965.0  \n",
       "2       279807335.0  \n",
       "3       846028530.0  \n",
       "4       569138589.0  \n",
       "\n",
       "[5 rows x 55 columns]"
      ]
     },
     "execution_count": 12,
     "metadata": {},
     "output_type": "execute_result"
    }
   ],
   "source": [
    "import warnings\n",
    "warnings.filterwarnings('ignore')\n",
    "#pd.set_option('max_column', None)\n",
    "db = pd.read_csv('../data/data_source.csv', na_values=['?', None])\n",
    "# db = pd.read_csv('<path-to-your-csv-inside-your-drive>',  na_values=['?', None])\n",
    "db.head()"
   ]
  },
  {
   "cell_type": "code",
   "execution_count": 13,
   "id": "a56a4bb4",
   "metadata": {},
   "outputs": [
    {
     "data": {
      "text/plain": [
       "['Bearer Id',\n",
       " 'Start',\n",
       " 'Start ms',\n",
       " 'End',\n",
       " 'End ms',\n",
       " 'Dur. (ms)',\n",
       " 'IMSI',\n",
       " 'MSISDN/Number',\n",
       " 'IMEI',\n",
       " 'Last Location Name',\n",
       " 'Avg RTT DL (ms)',\n",
       " 'Avg RTT UL (ms)',\n",
       " 'Avg Bearer TP DL (kbps)',\n",
       " 'Avg Bearer TP UL (kbps)',\n",
       " 'TCP DL Retrans. Vol (Bytes)',\n",
       " 'TCP UL Retrans. Vol (Bytes)',\n",
       " 'DL TP < 50 Kbps (%)',\n",
       " '50 Kbps < DL TP < 250 Kbps (%)',\n",
       " '250 Kbps < DL TP < 1 Mbps (%)',\n",
       " 'DL TP > 1 Mbps (%)',\n",
       " 'UL TP < 10 Kbps (%)',\n",
       " '10 Kbps < UL TP < 50 Kbps (%)',\n",
       " '50 Kbps < UL TP < 300 Kbps (%)',\n",
       " 'UL TP > 300 Kbps (%)',\n",
       " 'HTTP DL (Bytes)',\n",
       " 'HTTP UL (Bytes)',\n",
       " 'Activity Duration DL (ms)',\n",
       " 'Activity Duration UL (ms)',\n",
       " 'Dur. (ms).1',\n",
       " 'Handset Manufacturer',\n",
       " 'Handset Type',\n",
       " 'Nb of sec with 125000B < Vol DL',\n",
       " 'Nb of sec with 1250B < Vol UL < 6250B',\n",
       " 'Nb of sec with 31250B < Vol DL < 125000B',\n",
       " 'Nb of sec with 37500B < Vol UL',\n",
       " 'Nb of sec with 6250B < Vol DL < 31250B',\n",
       " 'Nb of sec with 6250B < Vol UL < 37500B',\n",
       " 'Nb of sec with Vol DL < 6250B',\n",
       " 'Nb of sec with Vol UL < 1250B',\n",
       " 'Social Media DL (Bytes)',\n",
       " 'Social Media UL (Bytes)',\n",
       " 'Google DL (Bytes)',\n",
       " 'Google UL (Bytes)',\n",
       " 'Email DL (Bytes)',\n",
       " 'Email UL (Bytes)',\n",
       " 'Youtube DL (Bytes)',\n",
       " 'Youtube UL (Bytes)',\n",
       " 'Netflix DL (Bytes)',\n",
       " 'Netflix UL (Bytes)',\n",
       " 'Gaming DL (Bytes)',\n",
       " 'Gaming UL (Bytes)',\n",
       " 'Other DL (Bytes)',\n",
       " 'Other UL (Bytes)',\n",
       " 'Total UL (Bytes)',\n",
       " 'Total DL (Bytes)']"
      ]
     },
     "execution_count": 13,
     "metadata": {},
     "output_type": "execute_result"
    }
   ],
   "source": [
    "db.columns.tolist()"
   ]
  },
  {
   "cell_type": "code",
   "execution_count": 14,
   "id": "d85930b5",
   "metadata": {},
   "outputs": [
    {
     "data": {
      "text/plain": [
       "Bearer Id                                   float64\n",
       "Start                                        object\n",
       "Start ms                                    float64\n",
       "End                                          object\n",
       "End ms                                      float64\n",
       "Dur. (ms)                                   float64\n",
       "IMSI                                        float64\n",
       "MSISDN/Number                               float64\n",
       "IMEI                                        float64\n",
       "Last Location Name                           object\n",
       "Avg RTT DL (ms)                             float64\n",
       "Avg RTT UL (ms)                             float64\n",
       "Avg Bearer TP DL (kbps)                     float64\n",
       "Avg Bearer TP UL (kbps)                     float64\n",
       "TCP DL Retrans. Vol (Bytes)                 float64\n",
       "TCP UL Retrans. Vol (Bytes)                 float64\n",
       "DL TP < 50 Kbps (%)                         float64\n",
       "50 Kbps < DL TP < 250 Kbps (%)              float64\n",
       "250 Kbps < DL TP < 1 Mbps (%)               float64\n",
       "DL TP > 1 Mbps (%)                          float64\n",
       "UL TP < 10 Kbps (%)                         float64\n",
       "10 Kbps < UL TP < 50 Kbps (%)               float64\n",
       "50 Kbps < UL TP < 300 Kbps (%)              float64\n",
       "UL TP > 300 Kbps (%)                        float64\n",
       "HTTP DL (Bytes)                             float64\n",
       "HTTP UL (Bytes)                             float64\n",
       "Activity Duration DL (ms)                   float64\n",
       "Activity Duration UL (ms)                   float64\n",
       "Dur. (ms).1                                 float64\n",
       "Handset Manufacturer                         object\n",
       "Handset Type                                 object\n",
       "Nb of sec with 125000B < Vol DL             float64\n",
       "Nb of sec with 1250B < Vol UL < 6250B       float64\n",
       "Nb of sec with 31250B < Vol DL < 125000B    float64\n",
       "Nb of sec with 37500B < Vol UL              float64\n",
       "Nb of sec with 6250B < Vol DL < 31250B      float64\n",
       "Nb of sec with 6250B < Vol UL < 37500B      float64\n",
       "Nb of sec with Vol DL < 6250B               float64\n",
       "Nb of sec with Vol UL < 1250B               float64\n",
       "Social Media DL (Bytes)                     float64\n",
       "Social Media UL (Bytes)                     float64\n",
       "Google DL (Bytes)                           float64\n",
       "Google UL (Bytes)                           float64\n",
       "Email DL (Bytes)                            float64\n",
       "Email UL (Bytes)                            float64\n",
       "Youtube DL (Bytes)                          float64\n",
       "Youtube UL (Bytes)                          float64\n",
       "Netflix DL (Bytes)                          float64\n",
       "Netflix UL (Bytes)                          float64\n",
       "Gaming DL (Bytes)                           float64\n",
       "Gaming UL (Bytes)                           float64\n",
       "Other DL (Bytes)                            float64\n",
       "Other UL (Bytes)                            float64\n",
       "Total UL (Bytes)                            float64\n",
       "Total DL (Bytes)                            float64\n",
       "dtype: object"
      ]
     },
     "execution_count": 14,
     "metadata": {},
     "output_type": "execute_result"
    }
   ],
   "source": [
    "db.dtypes"
   ]
  },
  {
   "cell_type": "code",
   "execution_count": 15,
   "id": "fba8e2d4",
   "metadata": {},
   "outputs": [
    {
     "data": {
      "text/plain": [
       "(150001, 55)"
      ]
     },
     "execution_count": 15,
     "metadata": {},
     "output_type": "execute_result"
    }
   ],
   "source": [
    "db.shape"
   ]
  },
  {
   "cell_type": "code",
   "execution_count": 16,
   "id": "908e6500",
   "metadata": {},
   "outputs": [
    {
     "data": {
      "text/plain": [
       "1031392"
      ]
     },
     "execution_count": 16,
     "metadata": {},
     "output_type": "execute_result"
    }
   ],
   "source": [
    "db.isnull().sum().sum()"
   ]
  },
  {
   "cell_type": "code",
   "execution_count": 26,
   "id": "65a42258",
   "metadata": {},
   "outputs": [
    {
     "name": "stdout",
     "output_type": "stream",
     "text": [
      "The XDR session dataset contains 12.5 % missing values.\n"
     ]
    }
   ],
   "source": [
    "def percent_missing(df):\n",
    "\n",
    "    # Calculate total number of cells in dataframe\n",
    "    totalCells = np.product(df.shape)\n",
    "\n",
    "    # Count number of missing values per column\n",
    "    missingCount = df.isnull().sum()\n",
    "\n",
    "    # Calculate total number of missing values\n",
    "    totalMissing = missingCount.sum()\n",
    "\n",
    "    # Calculate percentage of missing values\n",
    "    print(\"The XDR session dataset contains\", round(((totalMissing/totalCells) * 100), 2), \"%\", \"missing values.\")\n",
    "\n",
    "percent_missing(db)"
   ]
  },
  {
   "cell_type": "code",
   "execution_count": 18,
   "id": "f72ebdea",
   "metadata": {},
   "outputs": [
    {
     "data": {
      "text/plain": [
       "Bearer Id                                      991\n",
       "Start                                            1\n",
       "Start ms                                         1\n",
       "End                                              1\n",
       "End ms                                           1\n",
       "Dur. (ms)                                        1\n",
       "IMSI                                           570\n",
       "MSISDN/Number                                 1066\n",
       "IMEI                                           572\n",
       "Last Location Name                            1153\n",
       "Avg RTT DL (ms)                              27829\n",
       "Avg RTT UL (ms)                              27812\n",
       "Avg Bearer TP DL (kbps)                          1\n",
       "Avg Bearer TP UL (kbps)                          1\n",
       "TCP DL Retrans. Vol (Bytes)                  88146\n",
       "TCP UL Retrans. Vol (Bytes)                  96649\n",
       "DL TP < 50 Kbps (%)                            754\n",
       "50 Kbps < DL TP < 250 Kbps (%)                 754\n",
       "250 Kbps < DL TP < 1 Mbps (%)                  754\n",
       "DL TP > 1 Mbps (%)                             754\n",
       "UL TP < 10 Kbps (%)                            792\n",
       "10 Kbps < UL TP < 50 Kbps (%)                  792\n",
       "50 Kbps < UL TP < 300 Kbps (%)                 792\n",
       "UL TP > 300 Kbps (%)                           792\n",
       "HTTP DL (Bytes)                              81474\n",
       "HTTP UL (Bytes)                              81810\n",
       "Activity Duration DL (ms)                        1\n",
       "Activity Duration UL (ms)                        1\n",
       "Dur. (ms).1                                      1\n",
       "Handset Manufacturer                           572\n",
       "Handset Type                                   572\n",
       "Nb of sec with 125000B < Vol DL              97538\n",
       "Nb of sec with 1250B < Vol UL < 6250B        92894\n",
       "Nb of sec with 31250B < Vol DL < 125000B     93586\n",
       "Nb of sec with 37500B < Vol UL              130254\n",
       "Nb of sec with 6250B < Vol DL < 31250B       88317\n",
       "Nb of sec with 6250B < Vol UL < 37500B      111843\n",
       "Nb of sec with Vol DL < 6250B                  755\n",
       "Nb of sec with Vol UL < 1250B                  793\n",
       "Social Media DL (Bytes)                          0\n",
       "Social Media UL (Bytes)                          0\n",
       "Google DL (Bytes)                                0\n",
       "Google UL (Bytes)                                0\n",
       "Email DL (Bytes)                                 0\n",
       "Email UL (Bytes)                                 0\n",
       "Youtube DL (Bytes)                               0\n",
       "Youtube UL (Bytes)                               0\n",
       "Netflix DL (Bytes)                               0\n",
       "Netflix UL (Bytes)                               0\n",
       "Gaming DL (Bytes)                                0\n",
       "Gaming UL (Bytes)                                0\n",
       "Other DL (Bytes)                                 0\n",
       "Other UL (Bytes)                                 0\n",
       "Total UL (Bytes)                                 1\n",
       "Total DL (Bytes)                                 1\n",
       "dtype: int64"
      ]
     },
     "execution_count": 18,
     "metadata": {},
     "output_type": "execute_result"
    }
   ],
   "source": [
    "db.isna().sum()"
   ]
  },
  {
   "cell_type": "code",
   "execution_count": 19,
   "id": "51fc2bbd",
   "metadata": {},
   "outputs": [
    {
     "data": {
      "text/plain": [
       "Bearer Id                                     0.026666\n",
       "Start ms                                      0.000968\n",
       "End ms                                       -0.001163\n",
       "Dur. (ms)                                     3.952609\n",
       "IMSI                                         41.045956\n",
       "MSISDN/Number                               332.155856\n",
       "IMEI                                          1.071470\n",
       "Avg RTT DL (ms)                              62.907828\n",
       "Avg RTT UL (ms)                              28.457415\n",
       "Avg Bearer TP DL (kbps)                       2.589437\n",
       "Avg Bearer TP UL (kbps)                       4.503413\n",
       "TCP DL Retrans. Vol (Bytes)                  15.951809\n",
       "TCP UL Retrans. Vol (Bytes)                  84.113393\n",
       "DL TP < 50 Kbps (%)                          -2.297803\n",
       "50 Kbps < DL TP < 250 Kbps (%)                3.271453\n",
       "250 Kbps < DL TP < 1 Mbps (%)                 4.566158\n",
       "DL TP > 1 Mbps (%)                            5.370351\n",
       "UL TP < 10 Kbps (%)                          -8.985016\n",
       "10 Kbps < UL TP < 50 Kbps (%)                10.943888\n",
       "50 Kbps < UL TP < 300 Kbps (%)               21.878495\n",
       "UL TP > 300 Kbps (%)                         36.174053\n",
       "HTTP DL (Bytes)                              38.944710\n",
       "HTTP UL (Bytes)                              32.474970\n",
       "Activity Duration DL (ms)                     5.872256\n",
       "Activity Duration UL (ms)                     7.382557\n",
       "Dur. (ms).1                                   3.952609\n",
       "Nb of sec with 125000B < Vol DL               6.592502\n",
       "Nb of sec with 1250B < Vol UL < 6250B        22.035745\n",
       "Nb of sec with 31250B < Vol DL < 125000B      6.610541\n",
       "Nb of sec with 37500B < Vol UL               21.560028\n",
       "Nb of sec with 6250B < Vol DL < 31250B        6.896050\n",
       "Nb of sec with 6250B < Vol UL < 37500B       19.642752\n",
       "Nb of sec with Vol DL < 6250B                 9.042166\n",
       "Nb of sec with Vol UL < 1250B                 7.495176\n",
       "Social Media DL (Bytes)                      -0.002136\n",
       "Social Media UL (Bytes)                      -0.000359\n",
       "Google DL (Bytes)                            -0.008092\n",
       "Google UL (Bytes)                             0.002216\n",
       "Email DL (Bytes)                             -0.002463\n",
       "Email UL (Bytes)                              0.007358\n",
       "Youtube DL (Bytes)                            0.000231\n",
       "Youtube UL (Bytes)                           -0.001142\n",
       "Netflix DL (Bytes)                           -0.002442\n",
       "Netflix UL (Bytes)                           -0.000113\n",
       "Gaming DL (Bytes)                            -0.003460\n",
       "Gaming UL (Bytes)                            -0.001840\n",
       "Other DL (Bytes)                              0.001400\n",
       "Other UL (Bytes)                              0.001392\n",
       "Total UL (Bytes)                             -0.002456\n",
       "Total DL (Bytes)                             -0.003153\n",
       "dtype: float64"
      ]
     },
     "execution_count": 19,
     "metadata": {},
     "output_type": "execute_result"
    }
   ],
   "source": [
    "db.skew(axis=0)"
   ]
  },
  {
   "cell_type": "code",
   "execution_count": 22,
   "id": "8271ada3",
   "metadata": {},
   "outputs": [
    {
     "data": {
      "text/plain": [
       "<AxesSubplot:>"
      ]
     },
     "execution_count": 22,
     "metadata": {},
     "output_type": "execute_result"
    },
    {
     "data": {
      "image/png": "[encoded data removed]",
      "text/plain": [
       "<Figure size 640x480 with 1 Axes>"
      ]
     },
     "metadata": {},
     "output_type": "display_data"
    }
   ],
   "source": [
    "db['Dur. (ms)'].hist()"
   ]
  },
  {
   "cell_type": "code",
   "execution_count": 25,
   "id": "4b80c2ec",
   "metadata": {},
   "outputs": [
    {
     "data": {
      "text/plain": [
       "<seaborn.axisgrid.FacetGrid at 0x1532af45e10>"
      ]
     },
     "execution_count": 25,
     "metadata": {},
     "output_type": "execute_result"
    },
    {
     "data": {
      "image/png": "[encoded data removed]",
      "text/plain": [
       "<Figure size 500x500 with 1 Axes>"
      ]
     },
     "metadata": {},
     "output_type": "display_data"
    }
   ],
   "source": [
    "import seaborn as sns\n",
    "sns.displot(data=db, x=db['Total UL (Bytes)'])"
   ]
  },
  {
   "cell_type": "code",
   "execution_count": 28,
   "id": "6c30525e",
   "metadata": {},
   "outputs": [
    {
     "data": {
      "text/plain": [
       "(150001, 52)"
      ]
     },
     "execution_count": 28,
     "metadata": {},
     "output_type": "execute_result"
    }
   ],
   "source": [
    "df_clean = db.drop(['Last Location Name', 'Avg RTT DL (ms)', 'TCP DL Retrans. Vol (Bytes)'], axis=1)\n",
    "df_clean.shape"
   ]
  },
  {
   "cell_type": "code",
   "execution_count": 29,
   "id": "09b30d3c",
   "metadata": {},
   "outputs": [
    {
     "data": {
      "text/html": [
       "<div>\n",
       "<style scoped>\n",
       "    .dataframe tbody tr th:only-of-type {\n",
       "        vertical-align: middle;\n",
       "    }\n",
       "\n",
       "    .dataframe tbody tr th {\n",
       "        vertical-align: top;\n",
       "    }\n",
       "\n",
       "    .dataframe thead th {\n",
       "        text-align: right;\n",
       "    }\n",
       "</style>\n",
       "<table border=\"1\" class=\"dataframe\">\n",
       "  <thead>\n",
       "    <tr style=\"text-align: right;\">\n",
       "      <th></th>\n",
       "      <th>0</th>\n",
       "    </tr>\n",
       "  </thead>\n",
       "  <tbody>\n",
       "    <tr>\n",
       "      <th>1555</th>\n",
       "      <td>232.045400</td>\n",
       "    </tr>\n",
       "    <tr>\n",
       "      <th>1061</th>\n",
       "      <td>730.172708</td>\n",
       "    </tr>\n",
       "    <tr>\n",
       "      <th>804</th>\n",
       "      <td>21.768676</td>\n",
       "    </tr>\n",
       "    <tr>\n",
       "      <th>1809</th>\n",
       "      <td>58.848707</td>\n",
       "    </tr>\n",
       "    <tr>\n",
       "      <th>98</th>\n",
       "      <td>79.504620</td>\n",
       "    </tr>\n",
       "  </tbody>\n",
       "</table>\n",
       "</div>"
      ],
      "text/plain": [
       "               0\n",
       "1555  232.045400\n",
       "1061  730.172708\n",
       "804    21.768676\n",
       "1809   58.848707\n",
       "98     79.504620"
      ]
     },
     "execution_count": 29,
     "metadata": {},
     "output_type": "execute_result"
    }
   ],
   "source": [
    "original_data = pd.DataFrame(np.random.exponential(200, size=2000))\n",
    "\n",
    "original_data.sample(5)"
   ]
  },
  {
   "cell_type": "code",
   "execution_count": 30,
   "id": "fedf586a",
   "metadata": {},
   "outputs": [
    {
     "data": {
      "text/plain": [
       "(0.03267288375181171, 1691.5231704464331)"
      ]
     },
     "execution_count": 30,
     "metadata": {},
     "output_type": "execute_result"
    }
   ],
   "source": [
    "original_data[0].min(), original_data[0].max()"
   ]
  },
  {
   "cell_type": "code",
   "execution_count": 39,
   "id": "c400da12",
   "metadata": {},
   "outputs": [
    {
     "data": {
      "image/png": "[encoded data removed]",
      "text/plain": [
       "<Figure size 640x480 with 1 Axes>"
      ]
     },
     "metadata": {},
     "output_type": "display_data"
    }
   ],
   "source": [
    "count, bins, ignored = plt.hist(original_data, 14)\n",
    "plt.show()"
   ]
  },
  {
   "cell_type": "code",
   "execution_count": 38,
   "id": "b2721472",
   "metadata": {},
   "outputs": [
    {
     "data": {
      "image/png": "[encoded data removed]",
      "text/plain": [
       "<Figure size 1000x600 with 2 Axes>"
      ]
     },
     "metadata": {},
     "output_type": "display_data"
    }
   ],
   "source": [
    "from sklearn.preprocessing import StandardScaler\n",
    "from matplotlib import pyplot as plt\n",
    "def standard_scaler(df):\n",
    "    s_scaler = StandardScaler()\n",
    "    scaled_data = s_scaler.fit_transform(df)\n",
    "\n",
    "    # plot both together to compare\n",
    "    fig, ax = plt.subplots(1,2, figsize=(10, 6))\n",
    "    sns.histplot(original_data, ax=ax[0])\n",
    "    ax[0].set_title(\"Original Data\")\n",
    "    sns.histplot(scaled_data, ax=ax[1])\n",
    "    ax[1].set_title(\"Scaled data\")\n",
    "    \n",
    "standard_scaler(original_data)"
   ]
  },
  {
   "cell_type": "code",
   "execution_count": 41,
   "id": "da8d9210",
   "metadata": {},
   "outputs": [
    {
     "name": "stdout",
     "output_type": "stream",
     "text": [
      "Min Value:  0.0\n",
      "Max value:  1.0\n"
     ]
    },
    {
     "data": {
      "image/png": "[encoded data removed]",
      "text/plain": [
       "<Figure size 1000x600 with 2 Axes>"
      ]
     },
     "metadata": {},
     "output_type": "display_data"
    }
   ],
   "source": [
    "from sklearn.preprocessing import MinMaxScaler\n",
    "def normalizer(df):\n",
    "  minmax_scaler = MinMaxScaler()\n",
    "  tr = minmax_scaler.fit_transform(df)\n",
    "  print(\"Min Value: \",tr.min())\n",
    "  print(\"Max value: \",tr.max())\n",
    "  # plot both together to compare\n",
    "  fig, ax=plt.subplots(1,2, figsize=(10, 6))\n",
    "  sns.histplot(df, ax=ax[0])\n",
    "  ax[0].set_title(\"Original Data\")\n",
    "  sns.histplot(tr[0], ax=ax[1])\n",
    "  ax[1].set_title(\"Normalized data\")\n",
    "normalizer(original_data)"
   ]
  },
  {
   "cell_type": "code",
   "execution_count": 42,
   "id": "9d413894",
   "metadata": {},
   "outputs": [
    {
     "name": "stdout",
     "output_type": "stream",
     "text": [
      "<class 'pandas.core.frame.DataFrame'>\n",
      "RangeIndex: 150001 entries, 0 to 150000\n",
      "Data columns (total 52 columns):\n",
      " #   Column                                    Non-Null Count   Dtype  \n",
      "---  ------                                    --------------   -----  \n",
      " 0   Bearer Id                                 149010 non-null  float64\n",
      " 1   Start                                     150000 non-null  object \n",
      " 2   Start ms                                  150000 non-null  float64\n",
      " 3   End                                       150000 non-null  object \n",
      " 4   End ms                                    150000 non-null  float64\n",
      " 5   Dur. (ms)                                 150000 non-null  float64\n",
      " 6   IMSI                                      149431 non-null  float64\n",
      " 7   MSISDN/Number                             148935 non-null  float64\n",
      " 8   IMEI                                      149429 non-null  float64\n",
      " 9   Avg RTT UL (ms)                           122189 non-null  float64\n",
      " 10  Avg Bearer TP DL (kbps)                   150000 non-null  float64\n",
      " 11  Avg Bearer TP UL (kbps)                   150000 non-null  float64\n",
      " 12  TCP UL Retrans. Vol (Bytes)               53352 non-null   float64\n",
      " 13  DL TP < 50 Kbps (%)                       149247 non-null  float64\n",
      " 14  50 Kbps < DL TP < 250 Kbps (%)            149247 non-null  float64\n",
      " 15  250 Kbps < DL TP < 1 Mbps (%)             149247 non-null  float64\n",
      " 16  DL TP > 1 Mbps (%)                        149247 non-null  float64\n",
      " 17  UL TP < 10 Kbps (%)                       149209 non-null  float64\n",
      " 18  10 Kbps < UL TP < 50 Kbps (%)             149209 non-null  float64\n",
      " 19  50 Kbps < UL TP < 300 Kbps (%)            149209 non-null  float64\n",
      " 20  UL TP > 300 Kbps (%)                      149209 non-null  float64\n",
      " 21  HTTP DL (Bytes)                           68527 non-null   float64\n",
      " 22  HTTP UL (Bytes)                           68191 non-null   float64\n",
      " 23  Activity Duration DL (ms)                 150000 non-null  float64\n",
      " 24  Activity Duration UL (ms)                 150000 non-null  float64\n",
      " 25  Dur. (ms).1                               150000 non-null  float64\n",
      " 26  Handset Manufacturer                      149429 non-null  object \n",
      " 27  Handset Type                              149429 non-null  object \n",
      " 28  Nb of sec with 125000B < Vol DL           52463 non-null   float64\n",
      " 29  Nb of sec with 1250B < Vol UL < 6250B     57107 non-null   float64\n",
      " 30  Nb of sec with 31250B < Vol DL < 125000B  56415 non-null   float64\n",
      " 31  Nb of sec with 37500B < Vol UL            19747 non-null   float64\n",
      " 32  Nb of sec with 6250B < Vol DL < 31250B    61684 non-null   float64\n",
      " 33  Nb of sec with 6250B < Vol UL < 37500B    38158 non-null   float64\n",
      " 34  Nb of sec with Vol DL < 6250B             149246 non-null  float64\n",
      " 35  Nb of sec with Vol UL < 1250B             149208 non-null  float64\n",
      " 36  Social Media DL (Bytes)                   150001 non-null  float64\n",
      " 37  Social Media UL (Bytes)                   150001 non-null  float64\n",
      " 38  Google DL (Bytes)                         150001 non-null  float64\n",
      " 39  Google UL (Bytes)                         150001 non-null  float64\n",
      " 40  Email DL (Bytes)                          150001 non-null  float64\n",
      " 41  Email UL (Bytes)                          150001 non-null  float64\n",
      " 42  Youtube DL (Bytes)                        150001 non-null  float64\n",
      " 43  Youtube UL (Bytes)                        150001 non-null  float64\n",
      " 44  Netflix DL (Bytes)                        150001 non-null  float64\n",
      " 45  Netflix UL (Bytes)                        150001 non-null  float64\n",
      " 46  Gaming DL (Bytes)                         150001 non-null  float64\n",
      " 47  Gaming UL (Bytes)                         150001 non-null  float64\n",
      " 48  Other DL (Bytes)                          150001 non-null  float64\n",
      " 49  Other UL (Bytes)                          150001 non-null  float64\n",
      " 50  Total UL (Bytes)                          150000 non-null  float64\n",
      " 51  Total DL (Bytes)                          150000 non-null  float64\n",
      "dtypes: float64(48), object(4)\n",
      "memory usage: 59.5+ MB\n"
     ]
    }
   ],
   "source": [
    "df_clean.info()"
   ]
  },
  {
   "cell_type": "code",
   "execution_count": 43,
   "id": "4dc87372",
   "metadata": {},
   "outputs": [
    {
     "data": {
      "text/plain": [
       "array(['4/4/2019 12:01', '4/9/2019 13:04', '4/9/2019 17:42', ...,\n",
       "       '4/29/2019 7:27', '4/29/2019 7:28', nan], dtype=object)"
      ]
     },
     "execution_count": 43,
     "metadata": {},
     "output_type": "execute_result"
    }
   ],
   "source": [
    "df_clean['Start'].unique()"
   ]
  },
  {
   "cell_type": "code",
   "execution_count": 44,
   "id": "ec281a3a",
   "metadata": {},
   "outputs": [],
   "source": [
    "# Function to calculate missing values by column\n",
    "def missing_values_table(df):\n",
    "    # Total missing values\n",
    "    mis_val = df.isnull().sum()\n",
    "\n",
    "    # Percentage of missing values\n",
    "    mis_val_percent = 100 * df.isnull().sum() / len(df)\n",
    "\n",
    "    # dtype of missing values\n",
    "    mis_val_dtype = df.dtypes\n",
    "\n",
    "    # Make a table with the results\n",
    "    mis_val_table = pd.concat([mis_val, mis_val_percent, mis_val_dtype], axis=1)\n",
    "\n",
    "    # Rename the columns\n",
    "    mis_val_table_ren_columns = mis_val_table.rename(\n",
    "    columns = {0 : 'Missing Values', 1 : '% of Total Values', 2: 'Dtype'})\n",
    "\n",
    "    # Sort the table by percentage of missing descending\n",
    "    mis_val_table_ren_columns = mis_val_table_ren_columns[\n",
    "        mis_val_table_ren_columns.iloc[:,1] != 0].sort_values(\n",
    "    '% of Total Values', ascending=False).round(1)\n",
    "\n",
    "    # Print some summary information\n",
    "    print (\"Your selected dataframe has \" + str(df.shape[1]) + \" columns.\\n\"      \n",
    "        \"There are \" + str(mis_val_table_ren_columns.shape[0]) +\n",
    "          \" columns that have missing values.\")\n",
    "\n",
    "    # Return the dataframe with missing information\n",
    "    return mis_val_table_ren_columns\n",
    "\n",
    "def format_float(value):\n",
    "    return f'{value:,.2f}'\n",
    "\n",
    "def find_agg(df:pd.DataFrame, agg_column:str, agg_metric:str, col_name:str, top:int, order=False )->pd.DataFrame:\n",
    "    \n",
    "    new_df = df.groupby(agg_column)[agg_column].agg(agg_metric).reset_index(name=col_name).\\\n",
    "                        sort_values(by=col_name, ascending=order)[:top]\n",
    "    \n",
    "    return new_df\n",
    "\n",
    "def convert_bytes_to_megabytes(df, bytes_data):\n",
    "    \"\"\"\n",
    "        This function takes the dataframe and the column which has the bytes values\n",
    "        returns the megabytesof that value\n",
    "        \n",
    "        Args:\n",
    "        -----\n",
    "        df: dataframe\n",
    "        bytes_data: column with bytes values\n",
    "        \n",
    "        Returns:\n",
    "        --------\n",
    "        A series\n",
    "    \"\"\"\n",
    "    \n",
    "    megabyte = 1*10e+5\n",
    "    df[bytes_data] = df[bytes_data] / megabyte\n",
    "    \n",
    "    return df[bytes_data]\n",
    "\n",
    "pd.options.display.float_format = format_float"
   ]
  },
  {
   "cell_type": "code",
   "execution_count": 45,
   "id": "0c49d354",
   "metadata": {},
   "outputs": [
    {
     "data": {
      "text/plain": [
       "Huawei B528S-23A                                           19752\n",
       "Apple iPhone 6S (A1688)                                     9419\n",
       "Apple iPhone 6 (A1586)                                      9023\n",
       "undefined                                                   8987\n",
       "Apple iPhone 7 (A1778)                                      6326\n",
       "                                                           ...  \n",
       "Tct Mobile Suzho. Alcatel One Touch Y580D                      1\n",
       "Shenzhen Fortune. M-Ppas6                                      1\n",
       "Wiko Global Sasu Wiko Ridge 4G                                 1\n",
       "Hongkong Ipro Te. Ipro I9350 I9400 S3 Wave 3.5 Wave 4.0        1\n",
       "Shenzhen Jeko Co. Blackview Bv5800 Pro                         1\n",
       "Name: Handset Type, Length: 1396, dtype: int64"
      ]
     },
     "execution_count": 45,
     "metadata": {},
     "output_type": "execute_result"
    }
   ],
   "source": [
    "db['Handset Type'].value_counts()"
   ]
  },
  {
   "cell_type": "code",
   "execution_count": 50,
   "id": "d81eaa9f",
   "metadata": {},
   "outputs": [
    {
     "data": {
      "text/plain": [
       "Huawei B528S-23A                19752\n",
       "Apple iPhone 6S (A1688)          9419\n",
       "Apple iPhone 6 (A1586)           9023\n",
       "undefined                        8987\n",
       "Apple iPhone 7 (A1778)           6326\n",
       "Apple iPhone Se (A1723)          5187\n",
       "Apple iPhone 8 (A1905)           4993\n",
       "Apple iPhone Xr (A2105)          4568\n",
       "Samsung Galaxy S8 (Sm-G950F)     4520\n",
       "Apple iPhone X (A1901)           3813\n",
       "Name: Handset Type, dtype: int64"
      ]
     },
     "execution_count": 50,
     "metadata": {},
     "output_type": "execute_result"
    }
   ],
   "source": [
    "db['Handset Type'].value_counts()[:10]"
   ]
  },
  {
   "cell_type": "code",
   "execution_count": 51,
   "id": "4fab7895",
   "metadata": {},
   "outputs": [
    {
     "data": {
      "text/plain": [
       "Apple      59565\n",
       "Samsung    40839\n",
       "Huawei     34423\n",
       "Name: Handset Manufacturer, dtype: int64"
      ]
     },
     "execution_count": 51,
     "metadata": {},
     "output_type": "execute_result"
    }
   ],
   "source": [
    "db['Handset Manufacturer'].value_counts()[:3]"
   ]
  },
  {
   "cell_type": "code",
   "execution_count": 71,
   "id": "7277d414",
   "metadata": {},
   "outputs": [
    {
     "data": {
      "text/plain": [
       "Huawei B528S-23A           19752\n",
       "Apple iPhone 6S (A1688)     9419\n",
       "Apple iPhone 6 (A1586)      9023\n",
       "undefined                   8987\n",
       "Apple iPhone 7 (A1778)      6326\n",
       "Name: Handset Type, dtype: int64"
      ]
     },
     "execution_count": 71,
     "metadata": {},
     "output_type": "execute_result"
    }
   ],
   "source": [
    "db['Handset Type'].value_counts()[0:5]"
   ]
  },
  {
   "cell_type": "code",
   "execution_count": 79,
   "id": "67403ec6",
   "metadata": {},
   "outputs": [],
   "source": [
    "def fix_missing_ffill(df, col):\n",
    "    df[col] = df[col].fillna(method='ffill')\n",
    "    return df[col]\n",
    "\n",
    "\n",
    "def fix_missing_bfill(df, col):\n",
    "    df[col] = df[col].fillna(method='bfill')\n",
    "    return df[col]\n",
    "\n",
    "df_clean['Total UL (Bytes)'] = fix_missing_ffill(df_clean, 'Total UL (Bytes)')\n",
    "df_clean['Total DL (Bytes)'] = fix_missing_ffill(df_clean, 'Total DL (Bytes)')\n",
    "df_clean['Bearer Id'] = fix_missing_ffill(df_clean, 'Bearer Id')\n",
    "df_clean['IMEI'] = fix_missing_ffill(df_clean, 'IMEI')\n",
    "df_clean['IMSI'] = fix_missing_ffill(df_clean, 'IMSI')\n",
    "df_clean['Dur. (ms).1'] = fix_missing_ffill(df_clean, 'Dur. (ms).1')\n",
    "df_clean['MSISDN/Number'] = fix_missing_ffill(df_clean, 'MSISDN/Number')\n",
    "\n",
    "\n",
    "\n",
    "df_clean['Handset Manufacturer'] = df_clean['Handset Manufacturer'].fillna(df_clean['Handset Manufacturer'].mode()[0])\n",
    "df_clean['Handset Type'] = df_clean['Handset Type'].fillna(df_clean['Handset Type'].mode()[0])\n",
    "\n",
    "\n"
   ]
  },
  {
   "cell_type": "code",
   "execution_count": 83,
   "id": "46815a88",
   "metadata": {},
   "outputs": [
    {
     "name": "stdout",
     "output_type": "stream",
     "text": [
      "The XDR session dataset contains 11.67 % missing values.\n"
     ]
    }
   ],
   "source": [
    "percent_missing(df_clean)"
   ]
  },
  {
   "cell_type": "code",
   "execution_count": 81,
   "id": "82ce5688",
   "metadata": {},
   "outputs": [
    {
     "data": {
      "text/plain": [
       "(150001, 55)"
      ]
     },
     "execution_count": 81,
     "metadata": {},
     "output_type": "execute_result"
    }
   ],
   "source": [
    "db.shape"
   ]
  },
  {
   "cell_type": "code",
   "execution_count": 87,
   "id": "d21103e3",
   "metadata": {},
   "outputs": [
    {
     "data": {
      "text/plain": [
       "(0.03267288375181171, 1691.5231704464331)"
      ]
     },
     "execution_count": 87,
     "metadata": {},
     "output_type": "execute_result"
    }
   ],
   "source": [
    "original_data[0].min(), original_data[0].max()"
   ]
  },
  {
   "cell_type": "code",
   "execution_count": null,
   "id": "697851b8",
   "metadata": {},
   "outputs": [],
   "source": []
  }
 ],
 "metadata": {
  "kernelspec": {
   "display_name": "Python 3 (ipykernel)",
   "language": "python",
   "name": "python3"
  },
  "language_info": {
   "codemirror_mode": {
    "name": "ipython",
    "version": 3
   },
   "file_extension": ".py",
   "mimetype": "text/x-python",
   "name": "python",
   "nbconvert_exporter": "python",
   "pygments_lexer": "ipython3",
   "version": "3.10.4"
  }
 },
 "nbformat": 4,
 "nbformat_minor": 5
}
