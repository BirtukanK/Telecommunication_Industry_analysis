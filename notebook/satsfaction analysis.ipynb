{
 "cells": [
  {
   "cell_type": "code",
   "execution_count": 2,
   "id": "57baab6f",
   "metadata": {},
   "outputs": [],
   "source": [
    "import numpy as np\n",
    "import pandas as pd\n",
    "from sklearn.cluster import KMeans\n",
    "from sklearn.metrics.pairwise import euclidean_distances\n",
    "from sklearn.preprocessing import StandardScaler, normalize\n",
    "from sklearn.linear_model import LinearRegression\n",
    "from sklearn import model_selection\n",
    "import matplotlib.pyplot as plt\n",
    "import seaborn as sns\n",
    "import pickle\n",
    "import logging\n"
   ]
  },
  {
   "cell_type": "code",
   "execution_count": 3,
   "id": "1405b8e4",
   "metadata": {},
   "outputs": [],
   "source": [
    "class Logger:\n",
    "\n",
    "    def __init__(self, file_name: str, basic_level=logging.INFO):\n",
    "\n",
    "        logger = logging.getLogger(__name__)\n",
    "        logger.setLevel(basic_level)\n",
    "\n",
    "        file_handler = logging.FileHandler(f'../logs/{file_name}')\n",
    "        formatter = logging.Formatter(\n",
    "            '%(asctime)s : %(levelname)s : %(name)s : %(message)s', '%m-%d-%Y %H:%M:%S')\n",
    "\n",
    "        file_handler.setFormatter(formatter)\n",
    "        logger.addHandler(file_handler)\n",
    "\n",
    "        self.logger = logger\n",
    "\n",
    "    def get_app_logger(self) -> logging.Logger:\n",
    "        return self.logger"
   ]
  },
  {
   "cell_type": "code",
   "execution_count": 4,
   "id": "1cfaf5d3",
   "metadata": {},
   "outputs": [],
   "source": [
    "logger = Logger(\"userSatisfaction.log\").get_app_logger()"
   ]
  },
  {
   "cell_type": "code",
   "execution_count": 5,
   "id": "315b9fc7",
   "metadata": {},
   "outputs": [],
   "source": [
    "class Display_data:\n",
    "    def __init__(self) -> None:\n",
    "        self.logger = Logger(\"plot.log\", basic_level=logging.INFO)\n",
    "        try:\n",
    "            self.logger = Logger(\"plot.log\").get_app_logger()\n",
    "            self.logger.info(\n",
    "                'Successfully Instantiated Preprocessing Class Object')\n",
    "        except Exception:\n",
    "            self.logger.exception(\n",
    "                'Failed to Instantiate Preprocessing Class Object')\n",
    "            sys.exit(1)\n",
    "\n",
    "    def display_by_bar(self, df: pd.DataFrame, x_col: str, y_col: str, title: str, xlabel: str, ylabel: str) -> None:\n",
    "        plt.figure(figsize=(12, 7))\n",
    "        sns.barplot(data=df, x=x_col, y=y_col)\n",
    "        plt.title(title, size=20)\n",
    "        plt.xticks(rotation=75, fontsize=14)\n",
    "        plt.yticks(fontsize=14)\n",
    "        plt.xlabel(xlabel, fontsize=16)\n",
    "        plt.ylabel(ylabel, fontsize=16)\n",
    "        self.logger.info(\n",
    "            'displaying data by bar chart')\n",
    "        plt.show()\n"
   ]
  },
  {
   "cell_type": "code",
   "execution_count": 6,
   "id": "49ef13ea",
   "metadata": {},
   "outputs": [],
   "source": [
    "display = Display_data()"
   ]
  },
  {
   "cell_type": "code",
   "execution_count": 7,
   "id": "44c34f26",
   "metadata": {},
   "outputs": [],
   "source": [
    "df_org = pd.read_csv('../data/cleaned_data_outliers.csv')\n",
    "df = df_org.copy()"
   ]
  },
  {
   "cell_type": "code",
   "execution_count": 8,
   "id": "da7f9a52",
   "metadata": {},
   "outputs": [],
   "source": [
    "user_exp = pd.read_csv('../data/user_experience.csv')\n",
    "user_eng = pd.read_csv('../data/user_eng.csv')"
   ]
  },
  {
   "cell_type": "code",
   "execution_count": 9,
   "id": "dbc0521c",
   "metadata": {},
   "outputs": [],
   "source": [
    "with open(\"../models/user_eng.pkl\", \"rb\") as f:\n",
    "    kmeans1 = pickle.load(f)\n",
    "    \n",
    "with open(\"../models/user_exp.pkl\", \"rb\") as f:\n",
    "    kmeans2 = pickle.load(f)"
   ]
  },
  {
   "cell_type": "code",
   "execution_count": 10,
   "id": "8b3140e9",
   "metadata": {},
   "outputs": [
    {
     "data": {
      "text/html": [
       "<div>\n",
       "<style scoped>\n",
       "    .dataframe tbody tr th:only-of-type {\n",
       "        vertical-align: middle;\n",
       "    }\n",
       "\n",
       "    .dataframe tbody tr th {\n",
       "        vertical-align: top;\n",
       "    }\n",
       "\n",
       "    .dataframe thead th {\n",
       "        text-align: right;\n",
       "    }\n",
       "</style>\n",
       "<table border=\"1\" class=\"dataframe\">\n",
       "  <thead>\n",
       "    <tr style=\"text-align: right;\">\n",
       "      <th></th>\n",
       "      <th>0</th>\n",
       "      <th>1</th>\n",
       "      <th>2</th>\n",
       "    </tr>\n",
       "  </thead>\n",
       "  <tbody>\n",
       "    <tr>\n",
       "      <th>0</th>\n",
       "      <td>-0.488567</td>\n",
       "      <td>-0.158015</td>\n",
       "      <td>0.382288</td>\n",
       "    </tr>\n",
       "    <tr>\n",
       "      <th>1</th>\n",
       "      <td>-0.488567</td>\n",
       "      <td>0.188146</td>\n",
       "      <td>-1.087675</td>\n",
       "    </tr>\n",
       "    <tr>\n",
       "      <th>2</th>\n",
       "      <td>-0.488567</td>\n",
       "      <td>-0.060090</td>\n",
       "      <td>-0.193462</td>\n",
       "    </tr>\n",
       "    <tr>\n",
       "      <th>3</th>\n",
       "      <td>-0.488567</td>\n",
       "      <td>-0.516689</td>\n",
       "      <td>-0.547080</td>\n",
       "    </tr>\n",
       "    <tr>\n",
       "      <th>4</th>\n",
       "      <td>0.752095</td>\n",
       "      <td>-0.585234</td>\n",
       "      <td>1.560816</td>\n",
       "    </tr>\n",
       "  </tbody>\n",
       "</table>\n",
       "</div>"
      ],
      "text/plain": [
       "          0         1         2\n",
       "0 -0.488567 -0.158015  0.382288\n",
       "1 -0.488567  0.188146 -1.087675\n",
       "2 -0.488567 -0.060090 -0.193462\n",
       "3 -0.488567 -0.516689 -0.547080\n",
       "4  0.752095 -0.585234  1.560816"
      ]
     },
     "execution_count": 10,
     "metadata": {},
     "output_type": "execute_result"
    }
   ],
   "source": [
    "user_engagement_df = user_eng.set_index('msisdn/number')[\n",
    "    ['sessions','dur._(ms)', 'total_data']]\n",
    "scaler = StandardScaler()\n",
    "scaled_data = scaler.fit_transform(user_engagement_df)\n",
    "pd.DataFrame(scaled_data).head(5)"
   ]
  },
  {
   "cell_type": "code",
   "execution_count": 11,
   "id": "da205e84",
   "metadata": {},
   "outputs": [
    {
     "data": {
      "text/html": [
       "<div>\n",
       "<style scoped>\n",
       "    .dataframe tbody tr th:only-of-type {\n",
       "        vertical-align: middle;\n",
       "    }\n",
       "\n",
       "    .dataframe tbody tr th {\n",
       "        vertical-align: top;\n",
       "    }\n",
       "\n",
       "    .dataframe thead th {\n",
       "        text-align: right;\n",
       "    }\n",
       "</style>\n",
       "<table border=\"1\" class=\"dataframe\">\n",
       "  <thead>\n",
       "    <tr style=\"text-align: right;\">\n",
       "      <th></th>\n",
       "      <th>0</th>\n",
       "      <th>1</th>\n",
       "      <th>2</th>\n",
       "    </tr>\n",
       "  </thead>\n",
       "  <tbody>\n",
       "    <tr>\n",
       "      <th>0</th>\n",
       "      <td>-0.763190</td>\n",
       "      <td>-0.246834</td>\n",
       "      <td>0.597172</td>\n",
       "    </tr>\n",
       "    <tr>\n",
       "      <th>1</th>\n",
       "      <td>-0.404738</td>\n",
       "      <td>0.155864</td>\n",
       "      <td>-0.901051</td>\n",
       "    </tr>\n",
       "    <tr>\n",
       "      <th>2</th>\n",
       "      <td>-0.923740</td>\n",
       "      <td>-0.113614</td>\n",
       "      <td>-0.365781</td>\n",
       "    </tr>\n",
       "    <tr>\n",
       "      <th>3</th>\n",
       "      <td>-0.544549</td>\n",
       "      <td>-0.575892</td>\n",
       "      <td>-0.609766</td>\n",
       "    </tr>\n",
       "    <tr>\n",
       "      <th>4</th>\n",
       "      <td>0.411264</td>\n",
       "      <td>-0.320020</td>\n",
       "      <td>0.853492</td>\n",
       "    </tr>\n",
       "  </tbody>\n",
       "</table>\n",
       "</div>"
      ],
      "text/plain": [
       "          0         1         2\n",
       "0 -0.763190 -0.246834  0.597172\n",
       "1 -0.404738  0.155864 -0.901051\n",
       "2 -0.923740 -0.113614 -0.365781\n",
       "3 -0.544549 -0.575892 -0.609766\n",
       "4  0.411264 -0.320020  0.853492"
      ]
     },
     "execution_count": 11,
     "metadata": {},
     "output_type": "execute_result"
    }
   ],
   "source": [
    "data_normalized = normalize(scaled_data)\n",
    "pd.DataFrame(data_normalized).head(5)"
   ]
  },
  {
   "cell_type": "code",
   "execution_count": 12,
   "id": "a837bfde",
   "metadata": {},
   "outputs": [
    {
     "data": {
      "text/html": [
       "<div>\n",
       "<style scoped>\n",
       "    .dataframe tbody tr th:only-of-type {\n",
       "        vertical-align: middle;\n",
       "    }\n",
       "\n",
       "    .dataframe tbody tr th {\n",
       "        vertical-align: top;\n",
       "    }\n",
       "\n",
       "    .dataframe thead th {\n",
       "        text-align: right;\n",
       "    }\n",
       "</style>\n",
       "<table border=\"1\" class=\"dataframe\">\n",
       "  <thead>\n",
       "    <tr style=\"text-align: right;\">\n",
       "      <th></th>\n",
       "      <th>msisdn/number</th>\n",
       "      <th>cluster</th>\n",
       "      <th>sessions</th>\n",
       "      <th>dur._(ms)</th>\n",
       "      <th>total_data</th>\n",
       "      <th>engagement_score</th>\n",
       "    </tr>\n",
       "  </thead>\n",
       "  <tbody>\n",
       "    <tr>\n",
       "      <th>0</th>\n",
       "      <td>3.360100e+10</td>\n",
       "      <td>0</td>\n",
       "      <td>1</td>\n",
       "      <td>116720.0</td>\n",
       "      <td>8.786906e+08</td>\n",
       "      <td>1.638161</td>\n",
       "    </tr>\n",
       "    <tr>\n",
       "      <th>1</th>\n",
       "      <td>3.360100e+10</td>\n",
       "      <td>2</td>\n",
       "      <td>1</td>\n",
       "      <td>181230.0</td>\n",
       "      <td>1.568596e+08</td>\n",
       "      <td>1.652937</td>\n",
       "    </tr>\n",
       "    <tr>\n",
       "      <th>2</th>\n",
       "      <td>3.360100e+10</td>\n",
       "      <td>0</td>\n",
       "      <td>1</td>\n",
       "      <td>134969.0</td>\n",
       "      <td>5.959665e+08</td>\n",
       "      <td>1.819934</td>\n",
       "    </tr>\n",
       "    <tr>\n",
       "      <th>3</th>\n",
       "      <td>3.360101e+10</td>\n",
       "      <td>0</td>\n",
       "      <td>1</td>\n",
       "      <td>49878.0</td>\n",
       "      <td>4.223207e+08</td>\n",
       "      <td>1.934161</td>\n",
       "    </tr>\n",
       "    <tr>\n",
       "      <th>4</th>\n",
       "      <td>3.360101e+10</td>\n",
       "      <td>0</td>\n",
       "      <td>2</td>\n",
       "      <td>37104.0</td>\n",
       "      <td>1.457411e+09</td>\n",
       "      <td>1.169013</td>\n",
       "    </tr>\n",
       "  </tbody>\n",
       "</table>\n",
       "</div>"
      ],
      "text/plain": [
       "   msisdn/number  cluster  sessions  dur._(ms)    total_data  engagement_score\n",
       "0   3.360100e+10        0         1   116720.0  8.786906e+08          1.638161\n",
       "1   3.360100e+10        2         1   181230.0  1.568596e+08          1.652937\n",
       "2   3.360100e+10        0         1   134969.0  5.959665e+08          1.819934\n",
       "3   3.360101e+10        0         1    49878.0  4.223207e+08          1.934161\n",
       "4   3.360101e+10        0         2    37104.0  1.457411e+09          1.169013"
      ]
     },
     "execution_count": 12,
     "metadata": {},
     "output_type": "execute_result"
    }
   ],
   "source": [
    "distance = kmeans1.fit_transform(data_normalized)\n",
    "distance_from_less_engagement = list(\n",
    "    map(lambda x: x[3], distance))\n",
    "user_eng['engagement_score'] = distance_from_less_engagement\n",
    "user_eng.head(5)"
   ]
  },
  {
   "cell_type": "code",
   "execution_count": 13,
   "id": "1fd633cd",
   "metadata": {},
   "outputs": [
    {
     "data": {
      "text/plain": [
       "106856"
      ]
     },
     "execution_count": 13,
     "metadata": {},
     "output_type": "execute_result"
    }
   ],
   "source": [
    "len(user_exp)"
   ]
  },
  {
   "cell_type": "code",
   "execution_count": 14,
   "id": "e469f694",
   "metadata": {},
   "outputs": [],
   "source": [
    "user_expr = user_exp.copy()\n",
    "user_expr.drop([106855], axis=0, inplace=True)"
   ]
  },
  {
   "cell_type": "code",
   "execution_count": 15,
   "id": "ec379aa3",
   "metadata": {},
   "outputs": [
    {
     "data": {
      "text/html": [
       "<div>\n",
       "<style scoped>\n",
       "    .dataframe tbody tr th:only-of-type {\n",
       "        vertical-align: middle;\n",
       "    }\n",
       "\n",
       "    .dataframe tbody tr th {\n",
       "        vertical-align: top;\n",
       "    }\n",
       "\n",
       "    .dataframe thead th {\n",
       "        text-align: right;\n",
       "    }\n",
       "</style>\n",
       "<table border=\"1\" class=\"dataframe\">\n",
       "  <thead>\n",
       "    <tr style=\"text-align: right;\">\n",
       "      <th></th>\n",
       "      <th>msisdn/number</th>\n",
       "      <th>avg_rtt_total</th>\n",
       "      <th>avg_tp_total</th>\n",
       "      <th>total_avg_tcp_total</th>\n",
       "      <th>experience_score</th>\n",
       "    </tr>\n",
       "  </thead>\n",
       "  <tbody>\n",
       "    <tr>\n",
       "      <th>0</th>\n",
       "      <td>3.360100e+10</td>\n",
       "      <td>8.114390</td>\n",
       "      <td>7.274480</td>\n",
       "      <td>23.201031</td>\n",
       "      <td>0.437560</td>\n",
       "    </tr>\n",
       "    <tr>\n",
       "      <th>1</th>\n",
       "      <td>3.360100e+10</td>\n",
       "      <td>3.401197</td>\n",
       "      <td>7.803027</td>\n",
       "      <td>23.201031</td>\n",
       "      <td>1.263870</td>\n",
       "    </tr>\n",
       "    <tr>\n",
       "      <th>2</th>\n",
       "      <td>3.360100e+10</td>\n",
       "      <td>5.416100</td>\n",
       "      <td>7.763021</td>\n",
       "      <td>23.201031</td>\n",
       "      <td>0.640821</td>\n",
       "    </tr>\n",
       "    <tr>\n",
       "      <th>3</th>\n",
       "      <td>3.360101e+10</td>\n",
       "      <td>6.942157</td>\n",
       "      <td>9.102310</td>\n",
       "      <td>16.921539</td>\n",
       "      <td>0.840732</td>\n",
       "    </tr>\n",
       "    <tr>\n",
       "      <th>4</th>\n",
       "      <td>3.360101e+10</td>\n",
       "      <td>8.114390</td>\n",
       "      <td>27.135851</td>\n",
       "      <td>49.213729</td>\n",
       "      <td>1.341616</td>\n",
       "    </tr>\n",
       "  </tbody>\n",
       "</table>\n",
       "</div>"
      ],
      "text/plain": [
       "   msisdn/number  avg_rtt_total  avg_tp_total  total_avg_tcp_total  \\\n",
       "0   3.360100e+10       8.114390      7.274480            23.201031   \n",
       "1   3.360100e+10       3.401197      7.803027            23.201031   \n",
       "2   3.360100e+10       5.416100      7.763021            23.201031   \n",
       "3   3.360101e+10       6.942157      9.102310            16.921539   \n",
       "4   3.360101e+10       8.114390     27.135851            49.213729   \n",
       "\n",
       "   experience_score  \n",
       "0          0.437560  \n",
       "1          1.263870  \n",
       "2          0.640821  \n",
       "3          0.840732  \n",
       "4          1.341616  "
      ]
     },
     "execution_count": 15,
     "metadata": {},
     "output_type": "execute_result"
    }
   ],
   "source": [
    "exp_df = user_expr.set_index('msisdn/number')\n",
    "distance = kmeans2.fit_transform(data_normalized)\n",
    "distance_from_worest_experiance = list(\n",
    "    map(lambda x: x[0], distance))\n",
    "user_expr['experience_score'] = distance_from_worest_experiance\n",
    "user_expr.head(5)"
   ]
  },
  {
   "cell_type": "code",
   "execution_count": 16,
   "id": "48feb9a2",
   "metadata": {},
   "outputs": [
    {
     "data": {
      "text/plain": [
       "[33662697474.0, 33665581058.0, 33628094468.0, 33666105351.0, 33782497288.0]"
      ]
     },
     "execution_count": 16,
     "metadata": {},
     "output_type": "execute_result"
    }
   ],
   "source": [
    "user_eng_id = user_eng['msisdn/number'].values\n",
    "user_expr_id = user_expr['msisdn/number'].values\n",
    "user_intersection = list(\n",
    "    set(user_eng_id).intersection(user_expr_id))\n",
    "user_intersection[:5]"
   ]
  },
  {
   "cell_type": "code",
   "execution_count": 17,
   "id": "e07d164e",
   "metadata": {},
   "outputs": [],
   "source": [
    "user_eng_df = user_eng[user_eng['msisdn/number'].isin(\n",
    "    user_intersection)]"
   ]
  },
  {
   "cell_type": "code",
   "execution_count": 18,
   "id": "746e371d",
   "metadata": {},
   "outputs": [
    {
     "data": {
      "text/plain": [
       "(106854, 6)"
      ]
     },
     "execution_count": 18,
     "metadata": {},
     "output_type": "execute_result"
    }
   ],
   "source": [
    "user_eng_df.shape"
   ]
  },
  {
   "cell_type": "code",
   "execution_count": 19,
   "id": "f0b7bb69",
   "metadata": {},
   "outputs": [],
   "source": [
    "user_exper_df = user_expr[user_expr['msisdn/number'].isin(\n",
    "    user_intersection)]"
   ]
  },
  {
   "cell_type": "code",
   "execution_count": 20,
   "id": "aec4a289",
   "metadata": {},
   "outputs": [
    {
     "data": {
      "text/plain": [
       "(106854, 5)"
      ]
     },
     "execution_count": 20,
     "metadata": {},
     "output_type": "execute_result"
    }
   ],
   "source": [
    "user_exper_df.shape"
   ]
  },
  {
   "cell_type": "code",
   "execution_count": 21,
   "id": "7a842093",
   "metadata": {},
   "outputs": [
    {
     "data": {
      "text/html": [
       "<div>\n",
       "<style scoped>\n",
       "    .dataframe tbody tr th:only-of-type {\n",
       "        vertical-align: middle;\n",
       "    }\n",
       "\n",
       "    .dataframe tbody tr th {\n",
       "        vertical-align: top;\n",
       "    }\n",
       "\n",
       "    .dataframe thead th {\n",
       "        text-align: right;\n",
       "    }\n",
       "</style>\n",
       "<table border=\"1\" class=\"dataframe\">\n",
       "  <thead>\n",
       "    <tr style=\"text-align: right;\">\n",
       "      <th></th>\n",
       "      <th>msisdn/number</th>\n",
       "      <th>cluster</th>\n",
       "      <th>sessions</th>\n",
       "      <th>dur._(ms)</th>\n",
       "      <th>total_data</th>\n",
       "      <th>engagement_score</th>\n",
       "      <th>avg_rtt_total</th>\n",
       "      <th>avg_tp_total</th>\n",
       "      <th>total_avg_tcp_total</th>\n",
       "      <th>experience_score</th>\n",
       "      <th>satisfaction_score</th>\n",
       "    </tr>\n",
       "  </thead>\n",
       "  <tbody>\n",
       "    <tr>\n",
       "      <th>0</th>\n",
       "      <td>3.360100e+10</td>\n",
       "      <td>0</td>\n",
       "      <td>1</td>\n",
       "      <td>116720.0</td>\n",
       "      <td>8.786906e+08</td>\n",
       "      <td>1.638161</td>\n",
       "      <td>8.114390</td>\n",
       "      <td>7.274480</td>\n",
       "      <td>23.201031</td>\n",
       "      <td>0.437560</td>\n",
       "      <td>1.037860</td>\n",
       "    </tr>\n",
       "    <tr>\n",
       "      <th>1</th>\n",
       "      <td>3.360100e+10</td>\n",
       "      <td>2</td>\n",
       "      <td>1</td>\n",
       "      <td>181230.0</td>\n",
       "      <td>1.568596e+08</td>\n",
       "      <td>1.652937</td>\n",
       "      <td>3.401197</td>\n",
       "      <td>7.803027</td>\n",
       "      <td>23.201031</td>\n",
       "      <td>1.263870</td>\n",
       "      <td>1.458404</td>\n",
       "    </tr>\n",
       "    <tr>\n",
       "      <th>2</th>\n",
       "      <td>3.360100e+10</td>\n",
       "      <td>0</td>\n",
       "      <td>1</td>\n",
       "      <td>134969.0</td>\n",
       "      <td>5.959665e+08</td>\n",
       "      <td>1.819934</td>\n",
       "      <td>5.416100</td>\n",
       "      <td>7.763021</td>\n",
       "      <td>23.201031</td>\n",
       "      <td>0.640821</td>\n",
       "      <td>1.230377</td>\n",
       "    </tr>\n",
       "    <tr>\n",
       "      <th>3</th>\n",
       "      <td>3.360101e+10</td>\n",
       "      <td>0</td>\n",
       "      <td>1</td>\n",
       "      <td>49878.0</td>\n",
       "      <td>4.223207e+08</td>\n",
       "      <td>1.934161</td>\n",
       "      <td>6.942157</td>\n",
       "      <td>9.102310</td>\n",
       "      <td>16.921539</td>\n",
       "      <td>0.840732</td>\n",
       "      <td>1.387447</td>\n",
       "    </tr>\n",
       "    <tr>\n",
       "      <th>4</th>\n",
       "      <td>3.360101e+10</td>\n",
       "      <td>0</td>\n",
       "      <td>2</td>\n",
       "      <td>37104.0</td>\n",
       "      <td>1.457411e+09</td>\n",
       "      <td>1.169013</td>\n",
       "      <td>8.114390</td>\n",
       "      <td>27.135851</td>\n",
       "      <td>49.213729</td>\n",
       "      <td>1.341616</td>\n",
       "      <td>1.255315</td>\n",
       "    </tr>\n",
       "  </tbody>\n",
       "</table>\n",
       "</div>"
      ],
      "text/plain": [
       "   msisdn/number  cluster  sessions  dur._(ms)    total_data  \\\n",
       "0   3.360100e+10        0         1   116720.0  8.786906e+08   \n",
       "1   3.360100e+10        2         1   181230.0  1.568596e+08   \n",
       "2   3.360100e+10        0         1   134969.0  5.959665e+08   \n",
       "3   3.360101e+10        0         1    49878.0  4.223207e+08   \n",
       "4   3.360101e+10        0         2    37104.0  1.457411e+09   \n",
       "\n",
       "   engagement_score  avg_rtt_total  avg_tp_total  total_avg_tcp_total  \\\n",
       "0          1.638161       8.114390      7.274480            23.201031   \n",
       "1          1.652937       3.401197      7.803027            23.201031   \n",
       "2          1.819934       5.416100      7.763021            23.201031   \n",
       "3          1.934161       6.942157      9.102310            16.921539   \n",
       "4          1.169013       8.114390     27.135851            49.213729   \n",
       "\n",
       "   experience_score  satisfaction_score  \n",
       "0          0.437560            1.037860  \n",
       "1          1.263870            1.458404  \n",
       "2          0.640821            1.230377  \n",
       "3          0.840732            1.387447  \n",
       "4          1.341616            1.255315  "
      ]
     },
     "execution_count": 21,
     "metadata": {},
     "output_type": "execute_result"
    }
   ],
   "source": [
    "user_df = pd.merge(user_eng_df, user_exper_df, on='msisdn/number')\n",
    "user_df['satisfaction_score'] = (\n",
    "    user_df['engagement_score'] + user_df['experience_score'])/2\n",
    "user_df.head(5)"
   ]
  },
  {
   "cell_type": "code",
   "execution_count": 22,
   "id": "1220d118",
   "metadata": {},
   "outputs": [],
   "source": [
    "satisfaction_df = user_df[['msisdn/number', 'engagement_score',\n",
    "                        'experience_score', 'satisfaction_score']]\n",
    "satisfaction_df = satisfaction_df.set_index('msisdn/number')"
   ]
  },
  {
   "cell_type": "code",
   "execution_count": 23,
   "id": "cdd11324",
   "metadata": {},
   "outputs": [
    {
     "data": {
      "text/html": [
       "<div>\n",
       "<style scoped>\n",
       "    .dataframe tbody tr th:only-of-type {\n",
       "        vertical-align: middle;\n",
       "    }\n",
       "\n",
       "    .dataframe tbody tr th {\n",
       "        vertical-align: top;\n",
       "    }\n",
       "\n",
       "    .dataframe thead th {\n",
       "        text-align: right;\n",
       "    }\n",
       "</style>\n",
       "<table border=\"1\" class=\"dataframe\">\n",
       "  <thead>\n",
       "    <tr style=\"text-align: right;\">\n",
       "      <th></th>\n",
       "      <th>engagement_score</th>\n",
       "      <th>experience_score</th>\n",
       "      <th>satisfaction_score</th>\n",
       "    </tr>\n",
       "    <tr>\n",
       "      <th>msisdn/number</th>\n",
       "      <th></th>\n",
       "      <th></th>\n",
       "      <th></th>\n",
       "    </tr>\n",
       "  </thead>\n",
       "  <tbody>\n",
       "    <tr>\n",
       "      <th>3.366879e+10</th>\n",
       "      <td>1.957912</td>\n",
       "      <td>1.862770</td>\n",
       "      <td>1.910341</td>\n",
       "    </tr>\n",
       "    <tr>\n",
       "      <th>3.366499e+10</th>\n",
       "      <td>1.956995</td>\n",
       "      <td>1.861319</td>\n",
       "      <td>1.909157</td>\n",
       "    </tr>\n",
       "    <tr>\n",
       "      <th>3.378363e+10</th>\n",
       "      <td>1.956059</td>\n",
       "      <td>1.861748</td>\n",
       "      <td>1.908904</td>\n",
       "    </tr>\n",
       "    <tr>\n",
       "      <th>3.366601e+10</th>\n",
       "      <td>1.957557</td>\n",
       "      <td>1.858154</td>\n",
       "      <td>1.907855</td>\n",
       "    </tr>\n",
       "    <tr>\n",
       "      <th>3.367650e+10</th>\n",
       "      <td>1.956079</td>\n",
       "      <td>1.858849</td>\n",
       "      <td>1.907464</td>\n",
       "    </tr>\n",
       "    <tr>\n",
       "      <th>3.378345e+10</th>\n",
       "      <td>1.957503</td>\n",
       "      <td>1.857185</td>\n",
       "      <td>1.907344</td>\n",
       "    </tr>\n",
       "    <tr>\n",
       "      <th>3.369864e+10</th>\n",
       "      <td>1.950349</td>\n",
       "      <td>1.862046</td>\n",
       "      <td>1.906198</td>\n",
       "    </tr>\n",
       "    <tr>\n",
       "      <th>3.367639e+10</th>\n",
       "      <td>1.955122</td>\n",
       "      <td>1.855984</td>\n",
       "      <td>1.905553</td>\n",
       "    </tr>\n",
       "    <tr>\n",
       "      <th>3.366505e+10</th>\n",
       "      <td>1.957436</td>\n",
       "      <td>1.851927</td>\n",
       "      <td>1.904682</td>\n",
       "    </tr>\n",
       "    <tr>\n",
       "      <th>3.366503e+10</th>\n",
       "      <td>1.955675</td>\n",
       "      <td>1.853038</td>\n",
       "      <td>1.904357</td>\n",
       "    </tr>\n",
       "  </tbody>\n",
       "</table>\n",
       "</div>"
      ],
      "text/plain": [
       "               engagement_score  experience_score  satisfaction_score\n",
       "msisdn/number                                                        \n",
       "3.366879e+10           1.957912          1.862770            1.910341\n",
       "3.366499e+10           1.956995          1.861319            1.909157\n",
       "3.378363e+10           1.956059          1.861748            1.908904\n",
       "3.366601e+10           1.957557          1.858154            1.907855\n",
       "3.367650e+10           1.956079          1.858849            1.907464\n",
       "3.378345e+10           1.957503          1.857185            1.907344\n",
       "3.369864e+10           1.950349          1.862046            1.906198\n",
       "3.367639e+10           1.955122          1.855984            1.905553\n",
       "3.366505e+10           1.957436          1.851927            1.904682\n",
       "3.366503e+10           1.955675          1.853038            1.904357"
      ]
     },
     "execution_count": 23,
     "metadata": {},
     "output_type": "execute_result"
    }
   ],
   "source": [
    "top_10_satisfaction = satisfaction_df.nlargest(10, 'satisfaction_score')\n",
    "top_10_satisfaction.head(10)"
   ]
  },
  {
   "cell_type": "code",
   "execution_count": 24,
   "id": "2d8816fb",
   "metadata": {
    "scrolled": true
   },
   "outputs": [
    {
     "data": {
      "image/png": "[encoded data removed]",
      "text/plain": [
       "<Figure size 1200x700 with 1 Axes>"
      ]
     },
     "metadata": {},
     "output_type": "display_data"
    }
   ],
   "source": [
    "display.display_by_bar(top_10_satisfaction, top_10_satisfaction.index, top_10_satisfaction['satisfaction_score'],\n",
    "    \"Top 10 satisfied customers\", \"Users\", \"Satisfaction Score\")"
   ]
  },
  {
   "cell_type": "code",
   "execution_count": 25,
   "id": "c4dbd1d1",
   "metadata": {},
   "outputs": [],
   "source": [
    "class Model:\n",
    "    def __init__(self,X_train,X_test,y_train,y_test):\n",
    "        self.X_train = X_train\n",
    "        self.X_test = X_test\n",
    "        self.y_train = y_train\n",
    "        self.y_test = y_test\n",
    "\n",
    "\n",
    "    def model(self):\n",
    "        self.trained_model = LinearRegression()\n",
    "        self.trained_model.fit(self.X_train, self.y_train)\n",
    "        \n",
    "\n",
    "    def predict(self):\n",
    "        self.model()\n",
    "        return self.trained_model.predict(self.X_test)\n",
    "\n",
    "    def score(self):\n",
    "        return self.trained_model.score(self.X_test, self.y_test)\n",
    "\n",
    "    def error_score(self):\n",
    "        return np.mean((self.trained_model.predict(self.X_test) - self.y_test) ** 2)\n",
    "    \n",
    "    def save_model(self, path):\n",
    "        pickle.dump(self.trained_model, open(path, 'wb'))"
   ]
  },
  {
   "cell_type": "code",
   "execution_count": 26,
   "id": "d70cd568",
   "metadata": {},
   "outputs": [],
   "source": [
    "engagement_score = satisfaction_df[['engagement_score', 'experience_score']]\n",
    "experience_score = satisfaction_df[['satisfaction_score']]\n",
    "X_train, X_test, y_train, y_test = model_selection.train_test_split(engagement_score, experience_score, test_size=0.2, random_state=42) "
   ]
  },
  {
   "cell_type": "code",
   "execution_count": 27,
   "id": "98208457",
   "metadata": {},
   "outputs": [],
   "source": [
    "model = Model(X_train, X_test, y_train, y_test)"
   ]
  },
  {
   "cell_type": "code",
   "execution_count": 28,
   "id": "41a10cca",
   "metadata": {},
   "outputs": [
    {
     "data": {
      "text/plain": [
       "array([[0.92368236],\n",
       "       [1.36024534],\n",
       "       [0.91737248],\n",
       "       ...,\n",
       "       [1.34390228],\n",
       "       [1.23557379],\n",
       "       [1.27115282]])"
      ]
     },
     "execution_count": 28,
     "metadata": {},
     "output_type": "execute_result"
    }
   ],
   "source": [
    "model.predict()"
   ]
  },
  {
   "cell_type": "code",
   "execution_count": 29,
   "id": "11fb6032",
   "metadata": {},
   "outputs": [
    {
     "data": {
      "text/plain": [
       "1.0"
      ]
     },
     "execution_count": 29,
     "metadata": {},
     "output_type": "execute_result"
    }
   ],
   "source": [
    "model.score()"
   ]
  },
  {
   "cell_type": "code",
   "execution_count": 30,
   "id": "032cc02d",
   "metadata": {},
   "outputs": [
    {
     "name": "stderr",
     "output_type": "stream",
     "text": [
      "C:\\Users\\ACF\\PycharmProjects\\XDR_analysis\\venv\\lib\\site-packages\\numpy\\core\\fromnumeric.py:3430: FutureWarning: In a future version, DataFrame.mean(axis=None) will return a scalar mean over the entire DataFrame. To retain the old behavior, use 'frame.mean(axis=0)' or just 'frame.mean()'\n",
      "  return mean(axis=axis, dtype=dtype, out=out, **kwargs)\n"
     ]
    },
    {
     "data": {
      "text/plain": [
       "satisfaction_score    5.083758e-31\n",
       "dtype: float64"
      ]
     },
     "execution_count": 30,
     "metadata": {},
     "output_type": "execute_result"
    }
   ],
   "source": [
    "model.error_score()"
   ]
  },
  {
   "cell_type": "code",
   "execution_count": 31,
   "id": "df083e8d",
   "metadata": {},
   "outputs": [],
   "source": [
    "model.save_model(\"../models/satisfaction_model.pkl\")"
   ]
  },
  {
   "cell_type": "code",
   "execution_count": 32,
   "id": "46387a3f",
   "metadata": {},
   "outputs": [
    {
     "data": {
      "text/html": [
       "<div>\n",
       "<style scoped>\n",
       "    .dataframe tbody tr th:only-of-type {\n",
       "        vertical-align: middle;\n",
       "    }\n",
       "\n",
       "    .dataframe tbody tr th {\n",
       "        vertical-align: top;\n",
       "    }\n",
       "\n",
       "    .dataframe thead th {\n",
       "        text-align: right;\n",
       "    }\n",
       "</style>\n",
       "<table border=\"1\" class=\"dataframe\">\n",
       "  <thead>\n",
       "    <tr style=\"text-align: right;\">\n",
       "      <th></th>\n",
       "      <th>msisdn/number</th>\n",
       "      <th>cluster</th>\n",
       "      <th>sessions</th>\n",
       "      <th>dur._(ms)</th>\n",
       "      <th>total_data</th>\n",
       "      <th>engagement_score</th>\n",
       "      <th>avg_rtt_total</th>\n",
       "      <th>avg_tp_total</th>\n",
       "      <th>total_avg_tcp_total</th>\n",
       "      <th>experience_score</th>\n",
       "      <th>satisfaction_score</th>\n",
       "    </tr>\n",
       "  </thead>\n",
       "  <tbody>\n",
       "    <tr>\n",
       "      <th>0</th>\n",
       "      <td>3.360100e+10</td>\n",
       "      <td>0</td>\n",
       "      <td>1</td>\n",
       "      <td>116720.0</td>\n",
       "      <td>8.786906e+08</td>\n",
       "      <td>1.638161</td>\n",
       "      <td>8.114390</td>\n",
       "      <td>7.274480</td>\n",
       "      <td>23.201031</td>\n",
       "      <td>0.437560</td>\n",
       "      <td>1.037860</td>\n",
       "    </tr>\n",
       "    <tr>\n",
       "      <th>1</th>\n",
       "      <td>3.360100e+10</td>\n",
       "      <td>2</td>\n",
       "      <td>1</td>\n",
       "      <td>181230.0</td>\n",
       "      <td>1.568596e+08</td>\n",
       "      <td>1.652937</td>\n",
       "      <td>3.401197</td>\n",
       "      <td>7.803027</td>\n",
       "      <td>23.201031</td>\n",
       "      <td>1.263870</td>\n",
       "      <td>1.458404</td>\n",
       "    </tr>\n",
       "    <tr>\n",
       "      <th>2</th>\n",
       "      <td>3.360100e+10</td>\n",
       "      <td>0</td>\n",
       "      <td>1</td>\n",
       "      <td>134969.0</td>\n",
       "      <td>5.959665e+08</td>\n",
       "      <td>1.819934</td>\n",
       "      <td>5.416100</td>\n",
       "      <td>7.763021</td>\n",
       "      <td>23.201031</td>\n",
       "      <td>0.640821</td>\n",
       "      <td>1.230377</td>\n",
       "    </tr>\n",
       "    <tr>\n",
       "      <th>3</th>\n",
       "      <td>3.360101e+10</td>\n",
       "      <td>0</td>\n",
       "      <td>1</td>\n",
       "      <td>49878.0</td>\n",
       "      <td>4.223207e+08</td>\n",
       "      <td>1.934161</td>\n",
       "      <td>6.942157</td>\n",
       "      <td>9.102310</td>\n",
       "      <td>16.921539</td>\n",
       "      <td>0.840732</td>\n",
       "      <td>1.387447</td>\n",
       "    </tr>\n",
       "    <tr>\n",
       "      <th>4</th>\n",
       "      <td>3.360101e+10</td>\n",
       "      <td>0</td>\n",
       "      <td>2</td>\n",
       "      <td>37104.0</td>\n",
       "      <td>1.457411e+09</td>\n",
       "      <td>1.169013</td>\n",
       "      <td>8.114390</td>\n",
       "      <td>27.135851</td>\n",
       "      <td>49.213729</td>\n",
       "      <td>1.341616</td>\n",
       "      <td>1.255315</td>\n",
       "    </tr>\n",
       "  </tbody>\n",
       "</table>\n",
       "</div>"
      ],
      "text/plain": [
       "   msisdn/number  cluster  sessions  dur._(ms)    total_data  \\\n",
       "0   3.360100e+10        0         1   116720.0  8.786906e+08   \n",
       "1   3.360100e+10        2         1   181230.0  1.568596e+08   \n",
       "2   3.360100e+10        0         1   134969.0  5.959665e+08   \n",
       "3   3.360101e+10        0         1    49878.0  4.223207e+08   \n",
       "4   3.360101e+10        0         2    37104.0  1.457411e+09   \n",
       "\n",
       "   engagement_score  avg_rtt_total  avg_tp_total  total_avg_tcp_total  \\\n",
       "0          1.638161       8.114390      7.274480            23.201031   \n",
       "1          1.652937       3.401197      7.803027            23.201031   \n",
       "2          1.819934       5.416100      7.763021            23.201031   \n",
       "3          1.934161       6.942157      9.102310            16.921539   \n",
       "4          1.169013       8.114390     27.135851            49.213729   \n",
       "\n",
       "   experience_score  satisfaction_score  \n",
       "0          0.437560            1.037860  \n",
       "1          1.263870            1.458404  \n",
       "2          0.640821            1.230377  \n",
       "3          0.840732            1.387447  \n",
       "4          1.341616            1.255315  "
      ]
     },
     "execution_count": 32,
     "metadata": {},
     "output_type": "execute_result"
    }
   ],
   "source": [
    "user_df.head()"
   ]
  },
  {
   "cell_type": "code",
   "execution_count": 33,
   "id": "91437764",
   "metadata": {},
   "outputs": [
    {
     "data": {
      "text/html": [
       "<div>\n",
       "<style scoped>\n",
       "    .dataframe tbody tr th:only-of-type {\n",
       "        vertical-align: middle;\n",
       "    }\n",
       "\n",
       "    .dataframe tbody tr th {\n",
       "        vertical-align: top;\n",
       "    }\n",
       "\n",
       "    .dataframe thead th {\n",
       "        text-align: right;\n",
       "    }\n",
       "</style>\n",
       "<table border=\"1\" class=\"dataframe\">\n",
       "  <thead>\n",
       "    <tr style=\"text-align: right;\">\n",
       "      <th></th>\n",
       "      <th>msisdn/number</th>\n",
       "      <th>cluster</th>\n",
       "      <th>sessions</th>\n",
       "      <th>dur._(ms)</th>\n",
       "      <th>total_data</th>\n",
       "      <th>engagement_score</th>\n",
       "      <th>avg_rtt_total</th>\n",
       "      <th>avg_tp_total</th>\n",
       "      <th>total_avg_tcp_total</th>\n",
       "      <th>experience_score</th>\n",
       "      <th>satisfaction_score</th>\n",
       "    </tr>\n",
       "  </thead>\n",
       "  <tbody>\n",
       "    <tr>\n",
       "      <th>0</th>\n",
       "      <td>3.360100e+10</td>\n",
       "      <td>0</td>\n",
       "      <td>1</td>\n",
       "      <td>116720.0</td>\n",
       "      <td>8.786906e+08</td>\n",
       "      <td>1.638161</td>\n",
       "      <td>8.114390</td>\n",
       "      <td>7.274480</td>\n",
       "      <td>23.201031</td>\n",
       "      <td>0.437560</td>\n",
       "      <td>1.037860</td>\n",
       "    </tr>\n",
       "    <tr>\n",
       "      <th>1</th>\n",
       "      <td>3.360100e+10</td>\n",
       "      <td>2</td>\n",
       "      <td>1</td>\n",
       "      <td>181230.0</td>\n",
       "      <td>1.568596e+08</td>\n",
       "      <td>1.652937</td>\n",
       "      <td>3.401197</td>\n",
       "      <td>7.803027</td>\n",
       "      <td>23.201031</td>\n",
       "      <td>1.263870</td>\n",
       "      <td>1.458404</td>\n",
       "    </tr>\n",
       "    <tr>\n",
       "      <th>2</th>\n",
       "      <td>3.360100e+10</td>\n",
       "      <td>0</td>\n",
       "      <td>1</td>\n",
       "      <td>134969.0</td>\n",
       "      <td>5.959665e+08</td>\n",
       "      <td>1.819934</td>\n",
       "      <td>5.416100</td>\n",
       "      <td>7.763021</td>\n",
       "      <td>23.201031</td>\n",
       "      <td>0.640821</td>\n",
       "      <td>1.230377</td>\n",
       "    </tr>\n",
       "    <tr>\n",
       "      <th>3</th>\n",
       "      <td>3.360101e+10</td>\n",
       "      <td>0</td>\n",
       "      <td>1</td>\n",
       "      <td>49878.0</td>\n",
       "      <td>4.223207e+08</td>\n",
       "      <td>1.934161</td>\n",
       "      <td>6.942157</td>\n",
       "      <td>9.102310</td>\n",
       "      <td>16.921539</td>\n",
       "      <td>0.840732</td>\n",
       "      <td>1.387447</td>\n",
       "    </tr>\n",
       "    <tr>\n",
       "      <th>4</th>\n",
       "      <td>3.360101e+10</td>\n",
       "      <td>0</td>\n",
       "      <td>2</td>\n",
       "      <td>37104.0</td>\n",
       "      <td>1.457411e+09</td>\n",
       "      <td>1.169013</td>\n",
       "      <td>8.114390</td>\n",
       "      <td>27.135851</td>\n",
       "      <td>49.213729</td>\n",
       "      <td>1.341616</td>\n",
       "      <td>1.255315</td>\n",
       "    </tr>\n",
       "  </tbody>\n",
       "</table>\n",
       "</div>"
      ],
      "text/plain": [
       "   msisdn/number  cluster  sessions  dur._(ms)    total_data  \\\n",
       "0   3.360100e+10        0         1   116720.0  8.786906e+08   \n",
       "1   3.360100e+10        2         1   181230.0  1.568596e+08   \n",
       "2   3.360100e+10        0         1   134969.0  5.959665e+08   \n",
       "3   3.360101e+10        0         1    49878.0  4.223207e+08   \n",
       "4   3.360101e+10        0         2    37104.0  1.457411e+09   \n",
       "\n",
       "   engagement_score  avg_rtt_total  avg_tp_total  total_avg_tcp_total  \\\n",
       "0          1.638161       8.114390      7.274480            23.201031   \n",
       "1          1.652937       3.401197      7.803027            23.201031   \n",
       "2          1.819934       5.416100      7.763021            23.201031   \n",
       "3          1.934161       6.942157      9.102310            16.921539   \n",
       "4          1.169013       8.114390     27.135851            49.213729   \n",
       "\n",
       "   experience_score  satisfaction_score  \n",
       "0          0.437560            1.037860  \n",
       "1          1.263870            1.458404  \n",
       "2          0.640821            1.230377  \n",
       "3          0.840732            1.387447  \n",
       "4          1.341616            1.255315  "
      ]
     },
     "execution_count": 33,
     "metadata": {},
     "output_type": "execute_result"
    }
   ],
   "source": [
    "user_df.head()"
   ]
  },
  {
   "cell_type": "code",
   "execution_count": null,
   "id": "19c1664e",
   "metadata": {},
   "outputs": [],
   "source": [
    "user_satisfaction_df = user_df[[\n",
    "    'msisdn/number', \n",
    "    'engagement_score',\n",
    "    'experience_score']]\n",
    "user_satisfaction_df = user_satisfaction_df.set_index('msisdn/number')"
   ]
  },
  {
   "cell_type": "code",
   "execution_count": 105,
   "id": "4ab3b014",
   "metadata": {},
   "outputs": [
    {
     "data": {
      "text/html": [
       "<div>\n",
       "<style scoped>\n",
       "    .dataframe tbody tr th:only-of-type {\n",
       "        vertical-align: middle;\n",
       "    }\n",
       "\n",
       "    .dataframe tbody tr th {\n",
       "        vertical-align: top;\n",
       "    }\n",
       "\n",
       "    .dataframe thead th {\n",
       "        text-align: right;\n",
       "    }\n",
       "</style>\n",
       "<table border=\"1\" class=\"dataframe\">\n",
       "  <thead>\n",
       "    <tr style=\"text-align: right;\">\n",
       "      <th></th>\n",
       "      <th>engagement_score</th>\n",
       "      <th>experience_score</th>\n",
       "    </tr>\n",
       "    <tr>\n",
       "      <th>msisdn/number</th>\n",
       "      <th></th>\n",
       "      <th></th>\n",
       "    </tr>\n",
       "  </thead>\n",
       "  <tbody>\n",
       "    <tr>\n",
       "      <th>3.360100e+10</th>\n",
       "      <td>1.638161</td>\n",
       "      <td>0.437560</td>\n",
       "    </tr>\n",
       "    <tr>\n",
       "      <th>3.360100e+10</th>\n",
       "      <td>1.652937</td>\n",
       "      <td>1.263870</td>\n",
       "    </tr>\n",
       "    <tr>\n",
       "      <th>3.360100e+10</th>\n",
       "      <td>1.819934</td>\n",
       "      <td>0.640821</td>\n",
       "    </tr>\n",
       "    <tr>\n",
       "      <th>3.360101e+10</th>\n",
       "      <td>1.934161</td>\n",
       "      <td>0.840732</td>\n",
       "    </tr>\n",
       "    <tr>\n",
       "      <th>3.360101e+10</th>\n",
       "      <td>1.169013</td>\n",
       "      <td>1.341616</td>\n",
       "    </tr>\n",
       "  </tbody>\n",
       "</table>\n",
       "</div>"
      ],
      "text/plain": [
       "               engagement_score  experience_score\n",
       "msisdn/number                                    \n",
       "3.360100e+10           1.638161          0.437560\n",
       "3.360100e+10           1.652937          1.263870\n",
       "3.360100e+10           1.819934          0.640821\n",
       "3.360101e+10           1.934161          0.840732\n",
       "3.360101e+10           1.169013          1.341616"
      ]
     },
     "execution_count": 105,
     "metadata": {},
     "output_type": "execute_result"
    }
   ],
   "source": [
    "user_satisfaction_df.head()"
   ]
  },
  {
   "cell_type": "code",
   "execution_count": 106,
   "id": "af54b37c",
   "metadata": {},
   "outputs": [],
   "source": [
    "from sklearn.preprocessing import Normalizer\n",
    "\n",
    "def normalizer(df, columns):\n",
    "    norm = Normalizer()\n",
    "    # normalize the exponential data with boxcox\n",
    "    return pd.DataFrame(norm.fit_transform(df), columns=columns)"
   ]
  },
  {
   "cell_type": "code",
   "execution_count": 107,
   "id": "fb53df4b",
   "metadata": {},
   "outputs": [
    {
     "data": {
      "text/html": [
       "<div>\n",
       "<style scoped>\n",
       "    .dataframe tbody tr th:only-of-type {\n",
       "        vertical-align: middle;\n",
       "    }\n",
       "\n",
       "    .dataframe tbody tr th {\n",
       "        vertical-align: top;\n",
       "    }\n",
       "\n",
       "    .dataframe thead th {\n",
       "        text-align: right;\n",
       "    }\n",
       "</style>\n",
       "<table border=\"1\" class=\"dataframe\">\n",
       "  <thead>\n",
       "    <tr style=\"text-align: right;\">\n",
       "      <th></th>\n",
       "      <th>engagement_score</th>\n",
       "      <th>experience_score</th>\n",
       "    </tr>\n",
       "    <tr>\n",
       "      <th>msisdn/number</th>\n",
       "      <th></th>\n",
       "      <th></th>\n",
       "    </tr>\n",
       "  </thead>\n",
       "  <tbody>\n",
       "    <tr>\n",
       "      <th>3.360100e+10</th>\n",
       "      <td>1.638161</td>\n",
       "      <td>0.437560</td>\n",
       "    </tr>\n",
       "    <tr>\n",
       "      <th>3.360100e+10</th>\n",
       "      <td>1.652937</td>\n",
       "      <td>1.263870</td>\n",
       "    </tr>\n",
       "    <tr>\n",
       "      <th>3.360100e+10</th>\n",
       "      <td>1.819934</td>\n",
       "      <td>0.640821</td>\n",
       "    </tr>\n",
       "    <tr>\n",
       "      <th>3.360101e+10</th>\n",
       "      <td>1.934161</td>\n",
       "      <td>0.840732</td>\n",
       "    </tr>\n",
       "    <tr>\n",
       "      <th>3.360101e+10</th>\n",
       "      <td>1.169013</td>\n",
       "      <td>1.341616</td>\n",
       "    </tr>\n",
       "    <tr>\n",
       "      <th>...</th>\n",
       "      <td>...</td>\n",
       "      <td>...</td>\n",
       "    </tr>\n",
       "    <tr>\n",
       "      <th>3.378998e+10</th>\n",
       "      <td>0.574119</td>\n",
       "      <td>0.500044</td>\n",
       "    </tr>\n",
       "    <tr>\n",
       "      <th>3.379000e+10</th>\n",
       "      <td>1.915817</td>\n",
       "      <td>0.913146</td>\n",
       "    </tr>\n",
       "    <tr>\n",
       "      <th>3.379000e+10</th>\n",
       "      <td>1.795498</td>\n",
       "      <td>1.552662</td>\n",
       "    </tr>\n",
       "    <tr>\n",
       "      <th>3.197021e+12</th>\n",
       "      <td>0.898302</td>\n",
       "      <td>1.215294</td>\n",
       "    </tr>\n",
       "    <tr>\n",
       "      <th>3.370000e+14</th>\n",
       "      <td>1.299742</td>\n",
       "      <td>1.555205</td>\n",
       "    </tr>\n",
       "  </tbody>\n",
       "</table>\n",
       "<p>106854 rows × 2 columns</p>\n",
       "</div>"
      ],
      "text/plain": [
       "               engagement_score  experience_score\n",
       "msisdn/number                                    \n",
       "3.360100e+10           1.638161          0.437560\n",
       "3.360100e+10           1.652937          1.263870\n",
       "3.360100e+10           1.819934          0.640821\n",
       "3.360101e+10           1.934161          0.840732\n",
       "3.360101e+10           1.169013          1.341616\n",
       "...                         ...               ...\n",
       "3.378998e+10           0.574119          0.500044\n",
       "3.379000e+10           1.915817          0.913146\n",
       "3.379000e+10           1.795498          1.552662\n",
       "3.197021e+12           0.898302          1.215294\n",
       "3.370000e+14           1.299742          1.555205\n",
       "\n",
       "[106854 rows x 2 columns]"
      ]
     },
     "execution_count": 107,
     "metadata": {},
     "output_type": "execute_result"
    }
   ],
   "source": [
    "user_satisfaction_df"
   ]
  },
  {
   "cell_type": "code",
   "execution_count": 108,
   "id": "97ef2bbd",
   "metadata": {},
   "outputs": [],
   "source": [
    "normalized_df = normalizer(user_satisfaction_df, ['engagement_score', 'experience_score'] )"
   ]
  },
  {
   "cell_type": "code",
   "execution_count": 109,
   "id": "439b84a8",
   "metadata": {},
   "outputs": [],
   "source": [
    "normalized_sat_df = normalized_df.copy()"
   ]
  },
  {
   "cell_type": "code",
   "execution_count": 110,
   "id": "06d49c10",
   "metadata": {},
   "outputs": [],
   "source": [
    "kmeans = KMeans(init=\"random\",n_clusters=2,n_init=10,max_iter=300,random_state=42)\n",
    "label = kmeans.fit_predict(normalized_sat_df)\n",
    "centroids = kmeans.cluster_centers_"
   ]
  },
  {
   "cell_type": "code",
   "execution_count": 159,
   "id": "10552605",
   "metadata": {},
   "outputs": [
    {
     "data": {
      "image/png": "[encoded data removed]",
      "text/plain": [
       "<Figure size 1000x500 with 1 Axes>"
      ]
     },
     "metadata": {},
     "output_type": "display_data"
    }
   ],
   "source": [
    "lables_unique = np.unique(label)\n",
    "#plotting the results:\n",
    "plt.figure(figsize=(10,5))\n",
    "plt.title('User K-Means Classification for engagement and experience (Standardized Data)')\n",
    "for i in lables_unique:\n",
    "    plt.scatter(normalized_sat_df[label == i].iloc[:,0] , normalized_sat_df[label == i].iloc[:,1], marker='o', label = i)\n",
    "plt.scatter(centroids[:,0] , centroids[:,1], marker='x', color = 'black')\n",
    "plt.legend()\n",
    "plt.show()"
   ]
  },
  {
   "cell_type": "code",
   "execution_count": 112,
   "id": "a33a40a0",
   "metadata": {},
   "outputs": [
    {
     "data": {
      "text/html": [
       "<div>\n",
       "<style scoped>\n",
       "    .dataframe tbody tr th:only-of-type {\n",
       "        vertical-align: middle;\n",
       "    }\n",
       "\n",
       "    .dataframe tbody tr th {\n",
       "        vertical-align: top;\n",
       "    }\n",
       "\n",
       "    .dataframe thead th {\n",
       "        text-align: right;\n",
       "    }\n",
       "</style>\n",
       "<table border=\"1\" class=\"dataframe\">\n",
       "  <thead>\n",
       "    <tr style=\"text-align: right;\">\n",
       "      <th></th>\n",
       "      <th>engagement_score</th>\n",
       "      <th>experience_score</th>\n",
       "    </tr>\n",
       "  </thead>\n",
       "  <tbody>\n",
       "    <tr>\n",
       "      <th>0</th>\n",
       "      <td>0.966130</td>\n",
       "      <td>0.258058</td>\n",
       "    </tr>\n",
       "    <tr>\n",
       "      <th>1</th>\n",
       "      <td>0.794390</td>\n",
       "      <td>0.607407</td>\n",
       "    </tr>\n",
       "    <tr>\n",
       "      <th>2</th>\n",
       "      <td>0.943236</td>\n",
       "      <td>0.332125</td>\n",
       "    </tr>\n",
       "    <tr>\n",
       "      <th>3</th>\n",
       "      <td>0.917106</td>\n",
       "      <td>0.398643</td>\n",
       "    </tr>\n",
       "    <tr>\n",
       "      <th>4</th>\n",
       "      <td>0.656943</td>\n",
       "      <td>0.753940</td>\n",
       "    </tr>\n",
       "  </tbody>\n",
       "</table>\n",
       "</div>"
      ],
      "text/plain": [
       "   engagement_score  experience_score\n",
       "0          0.966130          0.258058\n",
       "1          0.794390          0.607407\n",
       "2          0.943236          0.332125\n",
       "3          0.917106          0.398643\n",
       "4          0.656943          0.753940"
      ]
     },
     "execution_count": 112,
     "metadata": {},
     "output_type": "execute_result"
    }
   ],
   "source": [
    "normalized_sat_df.head()"
   ]
  },
  {
   "cell_type": "code",
   "execution_count": 113,
   "id": "59797692",
   "metadata": {},
   "outputs": [],
   "source": [
    "user_sat_engagement = user_satisfaction_df.copy()"
   ]
  },
  {
   "cell_type": "code",
   "execution_count": 114,
   "id": "58307629",
   "metadata": {},
   "outputs": [
    {
     "data": {
      "text/html": [
       "<div>\n",
       "<style scoped>\n",
       "    .dataframe tbody tr th:only-of-type {\n",
       "        vertical-align: middle;\n",
       "    }\n",
       "\n",
       "    .dataframe tbody tr th {\n",
       "        vertical-align: top;\n",
       "    }\n",
       "\n",
       "    .dataframe thead th {\n",
       "        text-align: right;\n",
       "    }\n",
       "</style>\n",
       "<table border=\"1\" class=\"dataframe\">\n",
       "  <thead>\n",
       "    <tr style=\"text-align: right;\">\n",
       "      <th></th>\n",
       "      <th>cluster</th>\n",
       "      <th>engagement_score</th>\n",
       "      <th>experience_score</th>\n",
       "    </tr>\n",
       "    <tr>\n",
       "      <th>msisdn/number</th>\n",
       "      <th></th>\n",
       "      <th></th>\n",
       "      <th></th>\n",
       "    </tr>\n",
       "  </thead>\n",
       "  <tbody>\n",
       "    <tr>\n",
       "      <th>3.360100e+10</th>\n",
       "      <td>1</td>\n",
       "      <td>1.638161</td>\n",
       "      <td>0.437560</td>\n",
       "    </tr>\n",
       "    <tr>\n",
       "      <th>3.360100e+10</th>\n",
       "      <td>1</td>\n",
       "      <td>1.652937</td>\n",
       "      <td>1.263870</td>\n",
       "    </tr>\n",
       "    <tr>\n",
       "      <th>3.360100e+10</th>\n",
       "      <td>1</td>\n",
       "      <td>1.819934</td>\n",
       "      <td>0.640821</td>\n",
       "    </tr>\n",
       "    <tr>\n",
       "      <th>3.360101e+10</th>\n",
       "      <td>1</td>\n",
       "      <td>1.934161</td>\n",
       "      <td>0.840732</td>\n",
       "    </tr>\n",
       "    <tr>\n",
       "      <th>3.360101e+10</th>\n",
       "      <td>0</td>\n",
       "      <td>1.169013</td>\n",
       "      <td>1.341616</td>\n",
       "    </tr>\n",
       "  </tbody>\n",
       "</table>\n",
       "</div>"
      ],
      "text/plain": [
       "               cluster  engagement_score  experience_score\n",
       "msisdn/number                                             \n",
       "3.360100e+10         1          1.638161          0.437560\n",
       "3.360100e+10         1          1.652937          1.263870\n",
       "3.360100e+10         1          1.819934          0.640821\n",
       "3.360101e+10         1          1.934161          0.840732\n",
       "3.360101e+10         0          1.169013          1.341616"
      ]
     },
     "execution_count": 114,
     "metadata": {},
     "output_type": "execute_result"
    }
   ],
   "source": [
    "user_sat_engagement.insert(0, 'cluster', kmeans.labels_)\n",
    "user_sat_engagement.head(5)"
   ]
  },
  {
   "cell_type": "code",
   "execution_count": 53,
   "id": "2610d057",
   "metadata": {},
   "outputs": [],
   "source": [
    "user_sat_engagement.to_csv('../data/user_satisfaction.csv')"
   ]
  },
  {
   "cell_type": "code",
   "execution_count": 55,
   "id": "7c239af3",
   "metadata": {},
   "outputs": [],
   "source": [
    "aggrigate_sat = user_sat_engagement.groupby('cluster').agg(\n",
    "    {'engagement_score': 'sum', 'experience_score': 'sum'})"
   ]
  },
  {
   "cell_type": "code",
   "execution_count": 56,
   "id": "a177a920",
   "metadata": {},
   "outputs": [],
   "source": [
    "aggrigate_sat_df = pd.DataFrame()\n",
    "aggrigate_sat_df['cluster'] = aggrigate_sat.index\n",
    "aggrigate_sat_df['engagement_score'] = aggrigate_sat['engagement_score']\n",
    "aggrigate_sat_df['experience_score'] = aggrigate_sat['experience_score']"
   ]
  },
  {
   "cell_type": "code",
   "execution_count": 58,
   "id": "e5e29f5b",
   "metadata": {},
   "outputs": [
    {
     "data": {
      "text/html": [
       "<div>\n",
       "<style scoped>\n",
       "    .dataframe tbody tr th:only-of-type {\n",
       "        vertical-align: middle;\n",
       "    }\n",
       "\n",
       "    .dataframe tbody tr th {\n",
       "        vertical-align: top;\n",
       "    }\n",
       "\n",
       "    .dataframe thead th {\n",
       "        text-align: right;\n",
       "    }\n",
       "</style>\n",
       "<table border=\"1\" class=\"dataframe\">\n",
       "  <thead>\n",
       "    <tr style=\"text-align: right;\">\n",
       "      <th></th>\n",
       "      <th>cluster</th>\n",
       "      <th>engagement_score</th>\n",
       "      <th>experience_score</th>\n",
       "    </tr>\n",
       "  </thead>\n",
       "  <tbody>\n",
       "    <tr>\n",
       "      <th>0</th>\n",
       "      <td>0</td>\n",
       "      <td>28953.199967</td>\n",
       "      <td>48464.039624</td>\n",
       "    </tr>\n",
       "    <tr>\n",
       "      <th>1</th>\n",
       "      <td>1</td>\n",
       "      <td>131267.519451</td>\n",
       "      <td>61359.444367</td>\n",
       "    </tr>\n",
       "  </tbody>\n",
       "</table>\n",
       "</div>"
      ],
      "text/plain": [
       "   cluster  engagement_score  experience_score\n",
       "0        0      28953.199967      48464.039624\n",
       "1        1     131267.519451      61359.444367"
      ]
     },
     "execution_count": 58,
     "metadata": {},
     "output_type": "execute_result"
    }
   ],
   "source": [
    "aggrigate_sat_df.head()"
   ]
  },
  {
   "cell_type": "code",
   "execution_count": 60,
   "id": "dcbfc874",
   "metadata": {},
   "outputs": [
    {
     "data": {
      "text/plain": [
       "<AxesSubplot:xlabel='cluster', ylabel='engagement_score'>"
      ]
     },
     "execution_count": 60,
     "metadata": {},
     "output_type": "execute_result"
    },
    {
     "data": {
      "image/png": "[encoded data removed]",
      "text/plain": [
       "<Figure size 640x480 with 1 Axes>"
      ]
     },
     "metadata": {},
     "output_type": "display_data"
    }
   ],
   "source": [
    "sns.barplot(x=\"cluster\", y=\"engagement_score\", hue=\"cluster\", data=aggrigate_sat_df)"
   ]
  },
  {
   "cell_type": "code",
   "execution_count": 37,
   "id": "0353e6ff",
   "metadata": {},
   "outputs": [],
   "source": [
    "satisfaction_df = user_df[['msisdn/number', 'engagement_score',\n",
    "                        'experience_score', 'satisfaction_score']]"
   ]
  },
  {
   "cell_type": "code",
   "execution_count": 38,
   "id": "a6510991",
   "metadata": {},
   "outputs": [],
   "source": [
    "satisfaction_df.to_csv('../data/final_table.csv')"
   ]
  },
  {
   "cell_type": "code",
   "execution_count": null,
   "id": "75bce088",
   "metadata": {},
   "outputs": [],
   "source": []
  }
 ],
 "metadata": {
  "kernelspec": {
   "display_name": "Python 3 (ipykernel)",
   "language": "python",
   "name": "python3"
  },
  "language_info": {
   "codemirror_mode": {
    "name": "ipython",
    "version": 3
   },
   "file_extension": ".py",
   "mimetype": "text/x-python",
   "name": "python",
   "nbconvert_exporter": "python",
   "pygments_lexer": "ipython3",
   "version": "3.10.4"
  }
 },
 "nbformat": 4,
 "nbformat_minor": 5
}
